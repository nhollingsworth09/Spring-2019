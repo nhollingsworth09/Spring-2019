{
 "cells": [
  {
   "cell_type": "code",
   "execution_count": 71,
   "metadata": {},
   "outputs": [],
   "source": [
    "import pandas as pd\n",
    "import csv\n",
    "import dateutil\n",
    "import datetime\n",
    "import matplotlib.pyplot as plt\n",
    "%matplotlib inline\n",
    "import seaborn as sns\n",
    "import matplotlib.ticker as ticker"
   ]
  },
  {
   "cell_type": "code",
   "execution_count": 42,
   "metadata": {},
   "outputs": [],
   "source": [
    "filename = 'citibike.csv'\n",
    "now = datetime.datetime.now()\n",
    "\n",
    "def citi_generator(filename):\n",
    "    with open(filename, 'r') as file:\n",
    "        reader = csv.DictReader(file)\n",
    "        for row in reader:\n",
    "            if (row['usertype'] == 'Subscriber'):\n",
    "                age = now.year - int(row['birth_year'])\n",
    "                yield age"
   ]
  },
  {
   "cell_type": "code",
   "execution_count": 43,
   "metadata": {},
   "outputs": [
    {
     "data": {
      "text/plain": [
       "{41: 1377,\n",
       " 26: 470,\n",
       " 50: 1133,\n",
       " 34: 1673,\n",
       " 62: 449,\n",
       " 40: 1279,\n",
       " 36: 1793,\n",
       " 64: 413,\n",
       " 37: 1455,\n",
       " 31: 1358,\n",
       " 28: 922,\n",
       " 29: 1361,\n",
       " 42: 1122,\n",
       " 51: 1010,\n",
       " 32: 1730,\n",
       " 39: 1509,\n",
       " 59: 771,\n",
       " 33: 1568,\n",
       " 38: 1499,\n",
       " 44: 1071,\n",
       " 46: 1022,\n",
       " 48: 1162,\n",
       " 35: 1714,\n",
       " 24: 256,\n",
       " 25: 392,\n",
       " 53: 863,\n",
       " 47: 1081,\n",
       " 55: 891,\n",
       " 65: 417,\n",
       " 27: 493,\n",
       " 30: 1322,\n",
       " 49: 1347,\n",
       " 58: 618,\n",
       " 45: 1158,\n",
       " 43: 1168,\n",
       " 60: 687,\n",
       " 54: 947,\n",
       " 61: 783,\n",
       " 52: 999,\n",
       " 56: 970,\n",
       " 70: 134,\n",
       " 67: 247,\n",
       " 74: 28,\n",
       " 71: 149,\n",
       " 22: 94,\n",
       " 23: 124,\n",
       " 57: 899,\n",
       " 69: 150,\n",
       " 75: 59,\n",
       " 66: 346,\n",
       " 63: 488,\n",
       " 68: 229,\n",
       " 78: 39,\n",
       " 81: 24,\n",
       " 85: 8,\n",
       " 72: 74,\n",
       " 77: 61,\n",
       " 79: 21,\n",
       " 76: 18,\n",
       " 73: 93,\n",
       " 21: 59,\n",
       " 119: 22,\n",
       " 20: 17,\n",
       " 84: 9,\n",
       " 80: 4,\n",
       " 109: 2,\n",
       " 93: 1,\n",
       " 90: 1,\n",
       " 118: 1,\n",
       " 97: 4}"
      ]
     },
     "execution_count": 43,
     "metadata": {},
     "output_type": "execute_result"
    }
   ],
   "source": [
    "count = {}\n",
    "for age in citi_generator(\"citibike.csv\"):\n",
    "    count[age] = count.get(age,0)+1\n",
    "    \n",
    "count"
   ]
  },
  {
   "cell_type": "code",
   "execution_count": 102,
   "metadata": {},
   "outputs": [
    {
     "data": {
      "image/png": "[encoded data removed]",
      "text/plain": [
       "<Figure size 1152x360 with 1 Axes>"
      ]
     },
     "metadata": {},
     "output_type": "display_data"
    }
   ],
   "source": [
    "data = pd.DataFrame.from_dict(count, orient='index')\n",
    "plt.figure(figsize=(16,5))\n",
    "plt.xticks(rotation=90)\n",
    "ax = sns.barplot(data.index.astype(int), data[0])\n"
   ]
  },
  {
   "cell_type": "code",
   "execution_count": 57,
   "metadata": {},
   "outputs": [
    {
     "name": "stdout",
     "output_type": "stream",
     "text": [
      "Median: 42\n"
     ]
    }
   ],
   "source": [
    "cumulative = 0\n",
    "total = sum(count.values())\n",
    "\n",
    "for key, value in sorted(count.items()):\n",
    "    cumulative = cumulative + value\n",
    "    if current*2 >= total:\n",
    "        print('Median: {}'.format(k))\n",
    "        break"
   ]
  }
 ],
 "metadata": {
  "kernelspec": {
   "display_name": "Python 3",
   "language": "python",
   "name": "python3"
  },
  "language_info": {
   "codemirror_mode": {
    "name": "ipython",
    "version": 3
   },
   "file_extension": ".py",
   "mimetype": "text/x-python",
   "name": "python",
   "nbconvert_exporter": "python",
   "pygments_lexer": "ipython3",
   "version": "3.6.5"
  }
 },
 "nbformat": 4,
 "nbformat_minor": 2
}
