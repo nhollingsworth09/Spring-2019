{
 "cells": [
  {
   "cell_type": "code",
   "execution_count": 3,
   "metadata": {},
   "outputs": [],
   "source": [
    "import warnings\n",
    "warnings.filterwarnings(\"ignore\")\n",
    "\n",
    "import pandas as pd\n",
    "import numpy as np\n",
    "import datetime\n",
    "import nltk\n",
    "import string\n",
    "import re\n",
    "import os\n",
    "import matplotlib.pyplot as plt\n",
    "\n",
    "import warnings\n",
    "warnings.filterwarnings(\"ignore\")\n",
    "\n",
    "#nltk.download('punkt')\n",
    "#nltk.download('wordnet')\n",
    "#nltk.download('stopwords')\n",
    "\n",
    "#-- Text Preprocessing\n",
    "from sklearn.feature_extraction.text import TfidfVectorizer\n",
    "from collections import Counter\n",
    "from nltk.tokenize import word_tokenize\n",
    "from nltk.stem import PorterStemmer\n",
    "from nltk.corpus import stopwords\n",
    "from nltk.stem import WordNetLemmatizer"
   ]
  },
  {
   "cell_type": "markdown",
   "metadata": {},
   "source": [
    "---"
   ]
  },
  {
   "cell_type": "markdown",
   "metadata": {},
   "source": [
    "## Preprocessing used in ProjA"
   ]
  },
  {
   "cell_type": "code",
   "execution_count": 4,
   "metadata": {},
   "outputs": [
    {
     "name": "stdout",
     "output_type": "stream",
     "text": [
      "Data has been loaded. Elapsed Time: 28.953622 seconds\n"
     ]
    }
   ],
   "source": [
    "start = datetime.datetime.now()\n",
    "\n",
    "labels = pd.read_fwf(\"label.txt\", header=None)\n",
    "patents = pd.read_fwf(\"train.txt\", header=None)\n",
    "\n",
    "finish = datetime.datetime.now()\n",
    "print(\"Data has been loaded. Elapsed Time: {} seconds\".format((finish-start).total_seconds()))"
   ]
  },
  {
   "cell_type": "code",
   "execution_count": 5,
   "metadata": {},
   "outputs": [],
   "source": [
    "'''\n",
    "Setting column names for joining\n",
    "'''\n",
    "patents = patents.iloc[:,[0,1]]\n",
    "patents.columns = ['ID', 'Document']\n",
    "labels.columns = ['ID', 'Label']"
   ]
  },
  {
   "cell_type": "code",
   "execution_count": 6,
   "metadata": {},
   "outputs": [
    {
     "data": {
      "text/html": [
       "<div>\n",
       "<style scoped>\n",
       "    .dataframe tbody tr th:only-of-type {\n",
       "        vertical-align: middle;\n",
       "    }\n",
       "\n",
       "    .dataframe tbody tr th {\n",
       "        vertical-align: top;\n",
       "    }\n",
       "\n",
       "    .dataframe thead th {\n",
       "        text-align: right;\n",
       "    }\n",
       "</style>\n",
       "<table border=\"1\" class=\"dataframe\">\n",
       "  <thead>\n",
       "    <tr style=\"text-align: right;\">\n",
       "      <th></th>\n",
       "      <th>ID</th>\n",
       "      <th>Document</th>\n",
       "      <th>Label</th>\n",
       "    </tr>\n",
       "  </thead>\n",
       "  <tbody>\n",
       "    <tr>\n",
       "      <th>0</th>\n",
       "      <td>20030006121</td>\n",
       "      <td>Passive radio frequency identification system ...</td>\n",
       "      <td>8</td>\n",
       "    </tr>\n",
       "    <tr>\n",
       "      <th>1</th>\n",
       "      <td>20030009666</td>\n",
       "      <td>Methods and apparatus for efficient computatio...</td>\n",
       "      <td>0</td>\n",
       "    </tr>\n",
       "    <tr>\n",
       "      <th>2</th>\n",
       "      <td>20030014337</td>\n",
       "      <td>Systems, methods and computer program products...</td>\n",
       "      <td>8</td>\n",
       "    </tr>\n",
       "    <tr>\n",
       "      <th>3</th>\n",
       "      <td>20030019942</td>\n",
       "      <td>System and method for electronically readable ...</td>\n",
       "      <td>8</td>\n",
       "    </tr>\n",
       "    <tr>\n",
       "      <th>4</th>\n",
       "      <td>20030033242</td>\n",
       "      <td>System and method for automated process of dea...</td>\n",
       "      <td>6</td>\n",
       "    </tr>\n",
       "  </tbody>\n",
       "</table>\n",
       "</div>"
      ],
      "text/plain": [
       "            ID                                           Document  Label\n",
       "0  20030006121  Passive radio frequency identification system ...      8\n",
       "1  20030009666  Methods and apparatus for efficient computatio...      0\n",
       "2  20030014337  Systems, methods and computer program products...      8\n",
       "3  20030019942  System and method for electronically readable ...      8\n",
       "4  20030033242  System and method for automated process of dea...      6"
      ]
     },
     "execution_count": 6,
     "metadata": {},
     "output_type": "execute_result"
    }
   ],
   "source": [
    "pats = patents.join(labels.set_index('ID'), on = 'ID')\n",
    "pats.head()"
   ]
  },
  {
   "cell_type": "code",
   "execution_count": 7,
   "metadata": {},
   "outputs": [
    {
     "name": "stdout",
     "output_type": "stream",
     "text": [
      "Punctuation removed from patent! Elapsed Time: 10.548015 seconds\n"
     ]
    }
   ],
   "source": [
    "#Removing Punctuation\n",
    "\n",
    "def no_punctuation(document):\n",
    "    no_punc = ''.join([character for character in document if character not in string.punctuation])\n",
    "    return no_punc\n",
    "\n",
    "start = datetime.datetime.now()\n",
    "pats.Document = list(map(no_punctuation, pats.Document))\n",
    "finish = datetime.datetime.now()\n",
    "\n",
    "print(\"Punctuation removed from patent! Elapsed Time: {} seconds\".format((finish-start).total_seconds()))"
   ]
  },
  {
   "cell_type": "code",
   "execution_count": 8,
   "metadata": {},
   "outputs": [
    {
     "name": "stdout",
     "output_type": "stream",
     "text": [
      "Patents tokenized! Elapsed Time: 101.585836 seconds\n"
     ]
    }
   ],
   "source": [
    "# Tokenization\n",
    "def tokenize(document):\n",
    "    tokened = nltk.word_tokenize(document)\n",
    "    return tokened\n",
    "\n",
    "start = datetime.datetime.now()\n",
    "pats.Document = list(map(tokenize, pats.Document))\n",
    "finish = datetime.datetime.now()\n",
    "\n",
    "print(\"Patents tokenized! Elapsed Time: {} seconds\".format((finish-start).total_seconds()))\n"
   ]
  },
  {
   "cell_type": "code",
   "execution_count": 9,
   "metadata": {},
   "outputs": [
    {
     "name": "stdout",
     "output_type": "stream",
     "text": [
      "Stop words removed from patents! Elapsed Time: 16.794471 seconds\n"
     ]
    }
   ],
   "source": [
    "# Stop Word and Numeric Removal \n",
    "def no_stops(document):\n",
    "    stop_words = set(stopwords.words('english'))\n",
    "    no_stop = [word.lower() for word in document if word not in stop_words]\n",
    "    no_numeric = [word for word in no_stop if not any(num.isdigit() for num in word)]\n",
    "    return no_numeric\n",
    "\n",
    "start = datetime.datetime.now()\n",
    "pats.Document = list(map(no_stops, pats.Document))\n",
    "finish = datetime.datetime.now()\n",
    "\n",
    "print(\"Stop words removed from patents! Elapsed Time: {} seconds\".format((finish-start).total_seconds()))"
   ]
  },
  {
   "cell_type": "code",
   "execution_count": 10,
   "metadata": {},
   "outputs": [
    {
     "name": "stdout",
     "output_type": "stream",
     "text": [
      "Root words generated for patents! Elapsed Time: 258.560342 seconds\n"
     ]
    }
   ],
   "source": [
    "# Stemming [state = 0], Lemmatizing [state = 1]\n",
    "\n",
    "def generate_root(document, state):\n",
    "    if state == 0:\n",
    "        stemmer = PorterStemmer()\n",
    "        stemmed = [stemmer.stem(word.lower()) for word in document] \n",
    "        return stemmed\n",
    "    elif state == 1:\n",
    "        '''\n",
    "        Lemmatization has a drawback of needing to specify part of speech. Example:\n",
    "            For noun, 'building' == 'building',\n",
    "            For verb, 'building' == 'build'\n",
    "        '''\n",
    "        lemmatizer = WordNetLemmatizer()\n",
    "        lemmatized = [lemmatizer.lemmatize(word.lower(), pos = ['n']) for word in document]\n",
    "        return lemmatized\n",
    "    else:\n",
    "        return document\n",
    "\n",
    "    \n",
    "start = datetime.datetime.now()\n",
    "pats.Document = list(map(lambda x: generate_root(x,0), pats.Document)) #State is specified here\n",
    "finish = datetime.datetime.now()\n",
    "\n",
    "print(\"Root words generated for patents! Elapsed Time: {} seconds\".format((finish-start).total_seconds()))"
   ]
  },
  {
   "cell_type": "code",
   "execution_count": 11,
   "metadata": {},
   "outputs": [
    {
     "name": "stdout",
     "output_type": "stream",
     "text": [
      "Patents have been rejoined after preprocessing! Elapsed Time: 0.751593 seconds\n"
     ]
    }
   ],
   "source": [
    "# Rejoining Text After Cleaning\n",
    "\n",
    "def cleaned_document(document):\n",
    "    doc = ' '.join(document)\n",
    "    return doc\n",
    "\n",
    "start = datetime.datetime.now()\n",
    "pats.Document = pats.Document.apply(cleaned_document)\n",
    "finish = datetime.datetime.now()\n",
    "\n",
    "print(\"Patents have been rejoined after preprocessing! Elapsed Time: {} seconds\".format((finish-start).total_seconds()))"
   ]
  },
  {
   "cell_type": "markdown",
   "metadata": {},
   "source": [
    "### Vectorization of Documents"
   ]
  },
  {
   "cell_type": "code",
   "execution_count": 12,
   "metadata": {},
   "outputs": [
    {
     "data": {
      "text/plain": [
       "0    passiv radio frequenc identif system identifi ...\n",
       "1    method apparatu effici comput oneway chain cry...\n",
       "2    system method comput program product perform g...\n",
       "3    system method electron readabl card power sour...\n",
       "4    system method autom process deal structur an a...\n",
       "5    vehicl shop buy system method a complet intern...\n",
       "6    game cash manag slip method the invent cash ma...\n",
       "Name: Document, dtype: object"
      ]
     },
     "execution_count": 12,
     "metadata": {},
     "output_type": "execute_result"
    }
   ],
   "source": [
    "pats.Document[0:7]"
   ]
  },
  {
   "cell_type": "code",
   "execution_count": 64,
   "metadata": {},
   "outputs": [
    {
     "name": "stdout",
     "output_type": "stream",
     "text": [
      "(882, 4635)\n"
     ]
    },
    {
     "data": {
      "text/html": [
       "<div>\n",
       "<style scoped>\n",
       "    .dataframe tbody tr th:only-of-type {\n",
       "        vertical-align: middle;\n",
       "    }\n",
       "\n",
       "    .dataframe tbody tr th {\n",
       "        vertical-align: top;\n",
       "    }\n",
       "\n",
       "    .dataframe thead th {\n",
       "        text-align: right;\n",
       "    }\n",
       "</style>\n",
       "<table border=\"1\" class=\"dataframe\">\n",
       "  <thead>\n",
       "    <tr style=\"text-align: right;\">\n",
       "      <th></th>\n",
       "      <th>abil</th>\n",
       "      <th>abl</th>\n",
       "      <th>abl access</th>\n",
       "      <th>abl use</th>\n",
       "      <th>abovedescrib</th>\n",
       "      <th>absenc</th>\n",
       "      <th>abstract</th>\n",
       "      <th>acceler</th>\n",
       "      <th>accept</th>\n",
       "      <th>accept payment</th>\n",
       "      <th>...</th>\n",
       "      <th>xml</th>\n",
       "      <th>ye</th>\n",
       "      <th>year</th>\n",
       "      <th>yet</th>\n",
       "      <th>yet anoth</th>\n",
       "      <th>yield</th>\n",
       "      <th>zero</th>\n",
       "      <th>zip</th>\n",
       "      <th>zip code</th>\n",
       "      <th>âˆ</th>\n",
       "    </tr>\n",
       "  </thead>\n",
       "  <tbody>\n",
       "    <tr>\n",
       "      <th>0</th>\n",
       "      <td>0.015772</td>\n",
       "      <td>0.000000</td>\n",
       "      <td>0.0</td>\n",
       "      <td>0.0</td>\n",
       "      <td>0.000000</td>\n",
       "      <td>0.000000</td>\n",
       "      <td>0.000000</td>\n",
       "      <td>0.0</td>\n",
       "      <td>0.000000</td>\n",
       "      <td>0.0</td>\n",
       "      <td>...</td>\n",
       "      <td>0.0</td>\n",
       "      <td>0.000000</td>\n",
       "      <td>0.000000</td>\n",
       "      <td>0.000000</td>\n",
       "      <td>0.0</td>\n",
       "      <td>0.0</td>\n",
       "      <td>0.000000</td>\n",
       "      <td>0.0</td>\n",
       "      <td>0.0</td>\n",
       "      <td>0.0</td>\n",
       "    </tr>\n",
       "    <tr>\n",
       "      <th>1</th>\n",
       "      <td>0.000000</td>\n",
       "      <td>0.001681</td>\n",
       "      <td>0.0</td>\n",
       "      <td>0.0</td>\n",
       "      <td>0.019868</td>\n",
       "      <td>0.000000</td>\n",
       "      <td>0.000000</td>\n",
       "      <td>0.0</td>\n",
       "      <td>0.003259</td>\n",
       "      <td>0.0</td>\n",
       "      <td>...</td>\n",
       "      <td>0.0</td>\n",
       "      <td>0.000000</td>\n",
       "      <td>0.004388</td>\n",
       "      <td>0.000000</td>\n",
       "      <td>0.0</td>\n",
       "      <td>0.0</td>\n",
       "      <td>0.000000</td>\n",
       "      <td>0.0</td>\n",
       "      <td>0.0</td>\n",
       "      <td>0.0</td>\n",
       "    </tr>\n",
       "    <tr>\n",
       "      <th>2</th>\n",
       "      <td>0.002063</td>\n",
       "      <td>0.001789</td>\n",
       "      <td>0.0</td>\n",
       "      <td>0.0</td>\n",
       "      <td>0.003524</td>\n",
       "      <td>0.000000</td>\n",
       "      <td>0.000000</td>\n",
       "      <td>0.0</td>\n",
       "      <td>0.001734</td>\n",
       "      <td>0.0</td>\n",
       "      <td>...</td>\n",
       "      <td>0.0</td>\n",
       "      <td>0.000000</td>\n",
       "      <td>0.004670</td>\n",
       "      <td>0.000000</td>\n",
       "      <td>0.0</td>\n",
       "      <td>0.0</td>\n",
       "      <td>0.043756</td>\n",
       "      <td>0.0</td>\n",
       "      <td>0.0</td>\n",
       "      <td>0.0</td>\n",
       "    </tr>\n",
       "    <tr>\n",
       "      <th>3</th>\n",
       "      <td>0.000000</td>\n",
       "      <td>0.000000</td>\n",
       "      <td>0.0</td>\n",
       "      <td>0.0</td>\n",
       "      <td>0.000000</td>\n",
       "      <td>0.000000</td>\n",
       "      <td>0.000000</td>\n",
       "      <td>0.0</td>\n",
       "      <td>0.000000</td>\n",
       "      <td>0.0</td>\n",
       "      <td>...</td>\n",
       "      <td>0.0</td>\n",
       "      <td>0.019893</td>\n",
       "      <td>0.000000</td>\n",
       "      <td>0.000000</td>\n",
       "      <td>0.0</td>\n",
       "      <td>0.0</td>\n",
       "      <td>0.000000</td>\n",
       "      <td>0.0</td>\n",
       "      <td>0.0</td>\n",
       "      <td>0.0</td>\n",
       "    </tr>\n",
       "    <tr>\n",
       "      <th>4</th>\n",
       "      <td>0.003374</td>\n",
       "      <td>0.001462</td>\n",
       "      <td>0.0</td>\n",
       "      <td>0.0</td>\n",
       "      <td>0.000000</td>\n",
       "      <td>0.001566</td>\n",
       "      <td>0.002956</td>\n",
       "      <td>0.0</td>\n",
       "      <td>0.007798</td>\n",
       "      <td>0.0</td>\n",
       "      <td>...</td>\n",
       "      <td>0.0</td>\n",
       "      <td>0.000000</td>\n",
       "      <td>0.022909</td>\n",
       "      <td>0.000796</td>\n",
       "      <td>0.0</td>\n",
       "      <td>0.0</td>\n",
       "      <td>0.000000</td>\n",
       "      <td>0.0</td>\n",
       "      <td>0.0</td>\n",
       "      <td>0.0</td>\n",
       "    </tr>\n",
       "  </tbody>\n",
       "</table>\n",
       "<p>5 rows × 4635 columns</p>\n",
       "</div>"
      ],
      "text/plain": [
       "       abil       abl  abl access  abl use  abovedescrib    absenc  abstract  \\\n",
       "0  0.015772  0.000000         0.0      0.0      0.000000  0.000000  0.000000   \n",
       "1  0.000000  0.001681         0.0      0.0      0.019868  0.000000  0.000000   \n",
       "2  0.002063  0.001789         0.0      0.0      0.003524  0.000000  0.000000   \n",
       "3  0.000000  0.000000         0.0      0.0      0.000000  0.000000  0.000000   \n",
       "4  0.003374  0.001462         0.0      0.0      0.000000  0.001566  0.002956   \n",
       "\n",
       "   acceler    accept  accept payment ...   xml        ye      year       yet  \\\n",
       "0      0.0  0.000000             0.0 ...   0.0  0.000000  0.000000  0.000000   \n",
       "1      0.0  0.003259             0.0 ...   0.0  0.000000  0.004388  0.000000   \n",
       "2      0.0  0.001734             0.0 ...   0.0  0.000000  0.004670  0.000000   \n",
       "3      0.0  0.000000             0.0 ...   0.0  0.019893  0.000000  0.000000   \n",
       "4      0.0  0.007798             0.0 ...   0.0  0.000000  0.022909  0.000796   \n",
       "\n",
       "   yet anoth  yield      zero  zip  zip code   âˆ  \n",
       "0        0.0    0.0  0.000000  0.0       0.0  0.0  \n",
       "1        0.0    0.0  0.000000  0.0       0.0  0.0  \n",
       "2        0.0    0.0  0.043756  0.0       0.0  0.0  \n",
       "3        0.0    0.0  0.000000  0.0       0.0  0.0  \n",
       "4        0.0    0.0  0.000000  0.0       0.0  0.0  \n",
       "\n",
       "[5 rows x 4635 columns]"
      ]
     },
     "execution_count": 64,
     "metadata": {},
     "output_type": "execute_result"
    }
   ],
   "source": [
    "tfidf = TfidfVectorizer(ngram_range = (1,2), analyzer ='word',min_df = .1, max_df=.95)\n",
    "\n",
    "vectors = tfidf.fit_transform(pats.Document)\n",
    "vectorDF = pd.DataFrame(data=vectors.toarray())\n",
    "vectorDF.columns = tfidf.get_feature_names()\n",
    "\n",
    "print(vectorDF.shape)\n",
    "vectorDF.head()\n"
   ]
  },
  {
   "cell_type": "code",
   "execution_count": 65,
   "metadata": {},
   "outputs": [],
   "source": [
    "df = vectorDF.join(labels.Label)\n",
    "df_features = df.drop('Label', axis = 1)\n",
    "df_target = df['Label']"
   ]
  },
  {
   "cell_type": "markdown",
   "metadata": {},
   "source": [
    "### Feature Importance"
   ]
  },
  {
   "cell_type": "code",
   "execution_count": 15,
   "metadata": {},
   "outputs": [],
   "source": [
    "import matplotlib.pyplot as plt\n",
    "from sklearn.ensemble import ExtraTreesClassifier\n",
    "np.random.seed(4)\n",
    "\n",
    "features = df_features.columns\n",
    "\n",
    "importance_model = ExtraTreesClassifier()\n",
    "importance_model.fit(df_features, df_target)\n",
    "\n",
    "indices = np.argsort(importance_model.feature_importances_)"
   ]
  },
  {
   "cell_type": "code",
   "execution_count": 16,
   "metadata": {},
   "outputs": [
    {
     "name": "stdout",
     "output_type": "stream",
     "text": [
      "0.00963116780465739\n"
     ]
    },
    {
     "data": {
      "image/png": "[encoded data removed]",
      "text/plain": [
       "<Figure size 432x288 with 1 Axes>"
      ]
     },
     "metadata": {},
     "output_type": "display_data"
    }
   ],
   "source": [
    "values = pd.Series(importance_model.feature_importances_, index=features)\n",
    "print(max(values))\n",
    "values.sort_values(ascending=False).nlargest(20).plot(kind = 'barh', color = 'cornflowerblue', title = 'Feature Ranking').invert_yaxis()"
   ]
  },
  {
   "cell_type": "code",
   "execution_count": 40,
   "metadata": {},
   "outputs": [],
   "source": [
    "reduced_features = list(values.sort_values(ascending=False).nlargest(1500).index)\n",
    "df_features_reduced = df_features.loc[:,reduced_features]"
   ]
  },
  {
   "cell_type": "markdown",
   "metadata": {},
   "source": [
    "## Modeling"
   ]
  },
  {
   "cell_type": "markdown",
   "metadata": {},
   "source": [
    "### Traditional ML Models"
   ]
  },
  {
   "cell_type": "code",
   "execution_count": 18,
   "metadata": {},
   "outputs": [],
   "source": [
    "#-- Modeling\n",
    "from sklearn.model_selection import StratifiedKFold\n",
    "from sklearn import model_selection\n",
    "from sklearn.linear_model import LogisticRegression\n",
    "from sklearn.tree import DecisionTreeClassifier\n",
    "from sklearn.neighbors import KNeighborsClassifier\n",
    "from sklearn.discriminant_analysis import LinearDiscriminantAnalysis\n",
    "from sklearn.naive_bayes import GaussianNB\n",
    "from sklearn.svm import SVC\n",
    "from sklearn.svm import LinearSVC\n",
    "from sklearn.svm import NuSVC\n",
    "from sklearn.ensemble import RandomForestClassifier"
   ]
  },
  {
   "cell_type": "code",
   "execution_count": 19,
   "metadata": {},
   "outputs": [],
   "source": [
    "# Prepare models\n",
    "models = []\n",
    "models.append(('LR', LogisticRegression()))\n",
    "models.append(('LDA', LinearDiscriminantAnalysis()))\n",
    "models.append(('KNN', KNeighborsClassifier()))\n",
    "models.append(('DT', DecisionTreeClassifier()))\n",
    "models.append(('NB', GaussianNB()))\n",
    "models.append(('LiSVM', LinearSVC()))\n",
    "models.append(('NuSVM', NuSVC(nu= 0.19)))\n",
    "models.append(('RF', RandomForestClassifier()))"
   ]
  },
  {
   "cell_type": "code",
   "execution_count": 1,
   "metadata": {},
   "outputs": [
    {
     "ename": "NameError",
     "evalue": "name 'models' is not defined",
     "output_type": "error",
     "traceback": [
      "\u001b[1;31m---------------------------------------------------------------------------\u001b[0m",
      "\u001b[1;31mNameError\u001b[0m                                 Traceback (most recent call last)",
      "\u001b[1;32m<ipython-input-1-acdd0c76598e>\u001b[0m in \u001b[0;36m<module>\u001b[1;34m()\u001b[0m\n\u001b[0;32m      3\u001b[0m \u001b[0mnames\u001b[0m \u001b[1;33m=\u001b[0m \u001b[1;33m[\u001b[0m\u001b[1;33m]\u001b[0m\u001b[1;33m\u001b[0m\u001b[0m\n\u001b[0;32m      4\u001b[0m \u001b[0mscoring\u001b[0m \u001b[1;33m=\u001b[0m \u001b[1;34m'accuracy'\u001b[0m\u001b[1;33m\u001b[0m\u001b[0m\n\u001b[1;32m----> 5\u001b[1;33m \u001b[1;32mfor\u001b[0m \u001b[0mname\u001b[0m\u001b[1;33m,\u001b[0m \u001b[0mmodel\u001b[0m \u001b[1;32min\u001b[0m \u001b[0mmodels\u001b[0m\u001b[1;33m:\u001b[0m\u001b[1;33m\u001b[0m\u001b[0m\n\u001b[0m\u001b[0;32m      6\u001b[0m     \u001b[0mkfold\u001b[0m \u001b[1;33m=\u001b[0m \u001b[0mmodel_selection\u001b[0m\u001b[1;33m.\u001b[0m\u001b[0mStratifiedKFold\u001b[0m\u001b[1;33m(\u001b[0m\u001b[0mn_splits\u001b[0m\u001b[1;33m=\u001b[0m\u001b[1;36m10\u001b[0m\u001b[1;33m,\u001b[0m \u001b[0mrandom_state\u001b[0m\u001b[1;33m=\u001b[0m\u001b[1;36m1\u001b[0m\u001b[1;33m)\u001b[0m\u001b[1;33m\u001b[0m\u001b[0m\n\u001b[0;32m      7\u001b[0m     \u001b[0mcv_results\u001b[0m \u001b[1;33m=\u001b[0m \u001b[0mmodel_selection\u001b[0m\u001b[1;33m.\u001b[0m\u001b[0mcross_val_score\u001b[0m\u001b[1;33m(\u001b[0m\u001b[0mmodel\u001b[0m\u001b[1;33m,\u001b[0m \u001b[0mdf_features\u001b[0m\u001b[1;33m,\u001b[0m \u001b[0mdf_target\u001b[0m\u001b[1;33m,\u001b[0m \u001b[0mcv\u001b[0m\u001b[1;33m=\u001b[0m\u001b[0mkfold\u001b[0m\u001b[1;33m,\u001b[0m \u001b[0mscoring\u001b[0m\u001b[1;33m=\u001b[0m\u001b[0mscoring\u001b[0m\u001b[1;33m)\u001b[0m\u001b[1;33m\u001b[0m\u001b[0m\n",
      "\u001b[1;31mNameError\u001b[0m: name 'models' is not defined"
     ]
    }
   ],
   "source": [
    "# Evaluate each model in turn\n",
    "results = []\n",
    "names = []\n",
    "scoring = 'accuracy'\n",
    "for name, model in models:\n",
    "    kfold = model_selection.StratifiedKFold(n_splits=10, random_state=1)\n",
    "    cv_results = model_selection.cross_val_score(model, df_features_reduced, df_target, cv=kfold, scoring=scoring)\n",
    "    results.append(cv_results)\n",
    "    names.append(name) \n",
    "    msg = \"%s: %f (%f)\" % (name, cv_results.mean(), cv_results.std())\n",
    "    print(msg)"
   ]
  },
  {
   "cell_type": "code",
   "execution_count": 21,
   "metadata": {},
   "outputs": [
    {
     "data": {
      "image/png": "[encoded data removed]",
      "text/plain": [
       "<Figure size 432x288 with 1 Axes>"
      ]
     },
     "metadata": {},
     "output_type": "display_data"
    }
   ],
   "source": [
    "# Boxplot algorithm comparison\n",
    "fig = plt.figure()\n",
    "fig.suptitle('Algorithm Comparison')\n",
    "ax = fig.add_subplot(111)\n",
    "plt.boxplot(results)\n",
    "ax.set_xticklabels(names)\n",
    "plt.show()\n",
    "fig.savefig('ModelPerformance_ProjB.png')"
   ]
  },
  {
   "cell_type": "markdown",
   "metadata": {},
   "source": [
    "As you can see, feature selection stabilized the model accuracies, with most ranging 50% to 60%."
   ]
  },
  {
   "cell_type": "markdown",
   "metadata": {},
   "source": [
    "## Neural Networks"
   ]
  },
  {
   "cell_type": "code",
   "execution_count": 22,
   "metadata": {},
   "outputs": [
    {
     "name": "stdout",
     "output_type": "stream",
     "text": [
      "2.2.4\n",
      "1.13.1\n"
     ]
    }
   ],
   "source": [
    "#-- Neural Network\n",
    "import keras\n",
    "import tensorflow as tf  \n",
    "\n",
    "print(keras.__version__)\n",
    "print(tf.__version__) "
   ]
  },
  {
   "cell_type": "code",
   "execution_count": 67,
   "metadata": {},
   "outputs": [],
   "source": [
    "#df_features_reduced = df_features_reduced.values\n",
    "df_features = df_features.values\n",
    "df_target = pd.get_dummies(df_target).values"
   ]
  },
  {
   "cell_type": "code",
   "execution_count": 68,
   "metadata": {},
   "outputs": [],
   "source": [
    "from sklearn.model_selection import train_test_split\n",
    "#X_train, X_test, y_train, y_test = train_test_split(df_keras, df_target, test_size=0.2, random_state=1)\n",
    "#X_train, X_test, y_train, y_test = train_test_split(df_features_reduced, df_target, test_size=0.2, random_state=1)\n",
    "#X_train, X_test, y_train, y_test = train_test_split(df_features_reduced, df_target, test_size=0.2, random_state=1)\n",
    "X_train, X_test, y_train, y_test = train_test_split(df_features, df_target, test_size=0.2, random_state=1)\n",
    "X_train, X_val, y_train, y_val = train_test_split(X_train, y_train, test_size=0.2, random_state=1)"
   ]
  },
  {
   "cell_type": "code",
   "execution_count": 69,
   "metadata": {},
   "outputs": [
    {
     "name": "stdout",
     "output_type": "stream",
     "text": [
      "(564, 4635)\n",
      "(141, 4635)\n",
      "(177, 4635)\n"
     ]
    }
   ],
   "source": [
    "X = [X_train, X_val, X_test]\n",
    "\n",
    "for data in X:\n",
    "    print(data.shape)"
   ]
  },
  {
   "cell_type": "markdown",
   "metadata": {},
   "source": [
    "##### Traditional NN"
   ]
  },
  {
   "cell_type": "markdown",
   "metadata": {},
   "source": [
    "##### Change the folllowing parameters and check the accuracy: \n",
    "    1. Vocalbulary_size \n",
    "    2. comment_length \n",
    "    3. batch_size:  \n",
    "    4. epochs: \n",
    "    5. optimizer: \n",
    "    6. Add another lstm layer:  \n",
    "    7. number of values in each comment \n",
    "    8. Add another hidden layer \n",
    "    9. Number of nodes in hidden layer \n",
    "    10. number of cells in lstm layer "
   ]
  },
  {
   "cell_type": "code",
   "execution_count": 70,
   "metadata": {},
   "outputs": [],
   "source": [
    "def bnn(size):\n",
    "    vocab_size = size\n",
    "\n",
    "    model = keras.Sequential()\n",
    "    model.add(keras.layers.Dense(vocab_size, input_dim = size))\n",
    "    #model.add(keras.layers.Embedding(vocab_size, 64))\n",
    "    #model.add(keras.layers.GlobalAveragePooling1D())\n",
    "    #model.add(keras.layers.Bidirectional(tf.keras.layers.LSTM(64)))\n",
    "    model.add(keras.layers.Dense(32, activation='relu'))\n",
    "    model.add(keras.layers.Dense(9, activation='softmax'))\n",
    "    '''\n",
    "    model.add(keras.layers.Embedding(vocab_size, 64))\n",
    "    model.add(keras.layers.GlobalAveragePooling1D())\n",
    "    mokeras.optimizers.Adagrad(lr=0.01, epsilon=None, decay=0.0)del.add(keras.layers.Dense(128, activation='relu'))\n",
    "    model.add(keras.layers.Dense(128, activation='relu'))\n",
    "    model.add(keras.layers.Dense(64, activation='relu'))\n",
    "    model.add(keras.layers.Dense(9, activation='sigmoid'))\n",
    "    '''\n",
    "    adagrad = keras.optimizers.Adagrad(lr=0.05, epsilon=None, decay=0.001)\n",
    "    \n",
    "    model.compile(optimizer=adagrad,\n",
    "              loss='binary_crossentropy',\n",
    "              metrics=['accuracy'])\n",
    "    \n",
    "    return model"
   ]
  },
  {
   "cell_type": "code",
   "execution_count": 71,
   "metadata": {},
   "outputs": [
    {
     "data": {
      "text/plain": [
       "(564, 4635)"
      ]
     },
     "execution_count": 71,
     "metadata": {},
     "output_type": "execute_result"
    }
   ],
   "source": [
    "X_train.shape"
   ]
  },
  {
   "cell_type": "code",
   "execution_count": 72,
   "metadata": {},
   "outputs": [],
   "source": [
    "model_bnn = bnn(X_train.shape[1])"
   ]
  },
  {
   "cell_type": "code",
   "execution_count": 73,
   "metadata": {},
   "outputs": [
    {
     "name": "stdout",
     "output_type": "stream",
     "text": [
      "Train on 564 samples, validate on 141 samples\n",
      "Epoch 1/50\n",
      "564/564 [==============================] - 69s 123ms/step - loss: 0.4035 - acc: 0.8889 - val_loss: 2.6748 - val_acc: 0.8329\n",
      "Epoch 2/50\n",
      "564/564 [==============================] - 2s 3ms/step - loss: 2.6176 - acc: 0.8361 - val_loss: 3.3349 - val_acc: 0.7920\n",
      "Epoch 3/50\n",
      "564/564 [==============================] - 2s 3ms/step - loss: 3.3096 - acc: 0.7935 - val_loss: 3.3349 - val_acc: 0.7920\n",
      "Epoch 4/50\n",
      "564/564 [==============================] - 2s 3ms/step - loss: 3.3096 - acc: 0.7935 - val_loss: 3.3349 - val_acc: 0.7920\n",
      "Epoch 5/50\n",
      "564/564 [==============================] - 2s 3ms/step - loss: 3.3096 - acc: 0.7935 - val_loss: 3.3349 - val_acc: 0.7920\n",
      "Epoch 6/50\n",
      "564/564 [==============================] - 1s 3ms/step - loss: 3.3096 - acc: 0.7935 - val_loss: 3.3349 - val_acc: 0.7920\n",
      "Epoch 7/50\n",
      "564/564 [==============================] - 1s 3ms/step - loss: 3.3096 - acc: 0.7935 - val_loss: 3.3349 - val_acc: 0.7920\n",
      "Epoch 8/50\n",
      "564/564 [==============================] - 2s 3ms/step - loss: 3.3096 - acc: 0.7935 - val_loss: 3.3349 - val_acc: 0.7920\n",
      "Epoch 9/50\n",
      "564/564 [==============================] - 2s 3ms/step - loss: 3.3096 - acc: 0.7935 - val_loss: 3.3349 - val_acc: 0.7920\n",
      "Epoch 10/50\n",
      "564/564 [==============================] - 2s 3ms/step - loss: 3.3096 - acc: 0.7935 - val_loss: 3.3349 - val_acc: 0.7920\n",
      "Epoch 11/50\n",
      "564/564 [==============================] - 2s 3ms/step - loss: 3.3096 - acc: 0.7935 - val_loss: 3.3349 - val_acc: 0.7920\n",
      "Epoch 12/50\n",
      "564/564 [==============================] - 2s 3ms/step - loss: 3.3096 - acc: 0.7935 - val_loss: 3.3349 - val_acc: 0.7920\n",
      "Epoch 13/50\n",
      "564/564 [==============================] - 1s 3ms/step - loss: 3.3096 - acc: 0.7935 - val_loss: 3.3349 - val_acc: 0.7920\n",
      "Epoch 14/50\n",
      "564/564 [==============================] - 1s 2ms/step - loss: 3.3096 - acc: 0.7935 - val_loss: 3.3349 - val_acc: 0.7920\n",
      "Epoch 15/50\n",
      "564/564 [==============================] - 1s 3ms/step - loss: 3.3096 - acc: 0.7935 - val_loss: 3.3349 - val_acc: 0.7920\n",
      "Epoch 16/50\n",
      "564/564 [==============================] - 2s 3ms/step - loss: 3.3096 - acc: 0.7935 - val_loss: 3.3349 - val_acc: 0.7920\n",
      "Epoch 17/50\n",
      "564/564 [==============================] - 2s 3ms/step - loss: 3.3096 - acc: 0.7935 - val_loss: 3.3349 - val_acc: 0.7920\n",
      "Epoch 18/50\n",
      "564/564 [==============================] - 2s 3ms/step - loss: 3.3096 - acc: 0.7935 - val_loss: 3.3349 - val_acc: 0.7920\n",
      "Epoch 19/50\n",
      "564/564 [==============================] - 2s 3ms/step - loss: 3.3096 - acc: 0.7935 - val_loss: 3.3349 - val_acc: 0.7920\n",
      "Epoch 20/50\n",
      "564/564 [==============================] - 2s 3ms/step - loss: 3.3096 - acc: 0.7935 - val_loss: 3.3349 - val_acc: 0.7920\n",
      "Epoch 21/50\n",
      "564/564 [==============================] - 1s 2ms/step - loss: 3.3096 - acc: 0.7935 - val_loss: 3.3349 - val_acc: 0.7920\n",
      "Epoch 22/50\n",
      "564/564 [==============================] - 2s 4ms/step - loss: 3.3096 - acc: 0.7935 - val_loss: 3.3349 - val_acc: 0.7920\n",
      "Epoch 23/50\n",
      "564/564 [==============================] - 2s 4ms/step - loss: 3.3096 - acc: 0.7935 - val_loss: 3.3349 - val_acc: 0.7920\n",
      "Epoch 24/50\n",
      "564/564 [==============================] - 2s 4ms/step - loss: 3.3096 - acc: 0.7935 - val_loss: 3.3349 - val_acc: 0.7920\n",
      "Epoch 25/50\n",
      "564/564 [==============================] - 2s 4ms/step - loss: 3.3096 - acc: 0.7935 - val_loss: 3.3349 - val_acc: 0.7920\n",
      "Epoch 26/50\n",
      "564/564 [==============================] - 2s 3ms/step - loss: 3.3096 - acc: 0.7935 - val_loss: 3.3349 - val_acc: 0.7920\n",
      "Epoch 27/50\n",
      "564/564 [==============================] - 2s 3ms/step - loss: 3.3096 - acc: 0.7935 - val_loss: 3.3349 - val_acc: 0.7920\n",
      "Epoch 28/50\n",
      "564/564 [==============================] - 2s 3ms/step - loss: 3.3096 - acc: 0.7935 - val_loss: 3.3349 - val_acc: 0.7920\n",
      "Epoch 29/50\n",
      "564/564 [==============================] - 2s 4ms/step - loss: 3.3096 - acc: 0.7935 - val_loss: 3.3349 - val_acc: 0.7920\n",
      "Epoch 30/50\n",
      "564/564 [==============================] - 2s 3ms/step - loss: 3.3096 - acc: 0.7935 - val_loss: 3.3349 - val_acc: 0.7920\n",
      "Epoch 31/50\n",
      "564/564 [==============================] - 2s 3ms/step - loss: 3.3096 - acc: 0.7935 - val_loss: 3.3349 - val_acc: 0.7920\n",
      "Epoch 32/50\n",
      "564/564 [==============================] - 2s 3ms/step - loss: 3.3096 - acc: 0.7935 - val_loss: 3.3349 - val_acc: 0.7920\n",
      "Epoch 33/50\n",
      "564/564 [==============================] - 1s 2ms/step - loss: 3.3096 - acc: 0.7935 - val_loss: 3.3349 - val_acc: 0.7920\n",
      "Epoch 34/50\n",
      "564/564 [==============================] - 2s 3ms/step - loss: 3.3096 - acc: 0.7935 - val_loss: 3.3349 - val_acc: 0.7920\n",
      "Epoch 35/50\n",
      "564/564 [==============================] - 2s 3ms/step - loss: 3.3096 - acc: 0.7935 - val_loss: 3.3349 - val_acc: 0.7920\n",
      "Epoch 36/50\n",
      "564/564 [==============================] - 2s 3ms/step - loss: 3.3096 - acc: 0.7935 - val_loss: 3.3349 - val_acc: 0.7920\n",
      "Epoch 37/50\n",
      "564/564 [==============================] - 2s 3ms/step - loss: 3.3096 - acc: 0.7935 - val_loss: 3.3349 - val_acc: 0.7920\n",
      "Epoch 38/50\n",
      "564/564 [==============================] - 2s 3ms/step - loss: 3.3096 - acc: 0.7935 - val_loss: 3.3349 - val_acc: 0.7920\n",
      "Epoch 39/50\n",
      "564/564 [==============================] - 2s 3ms/step - loss: 3.3096 - acc: 0.7935 - val_loss: 3.3349 - val_acc: 0.7920\n",
      "Epoch 40/50\n",
      "564/564 [==============================] - 1s 3ms/step - loss: 3.3096 - acc: 0.7935 - val_loss: 3.3349 - val_acc: 0.7920\n",
      "Epoch 41/50\n",
      "564/564 [==============================] - 1s 2ms/step - loss: 3.3096 - acc: 0.7935 - val_loss: 3.3349 - val_acc: 0.7920\n",
      "Epoch 42/50\n",
      "564/564 [==============================] - 1s 3ms/step - loss: 3.3096 - acc: 0.7935 - val_loss: 3.3349 - val_acc: 0.7920\n",
      "Epoch 43/50\n",
      "564/564 [==============================] - 2s 3ms/step - loss: 3.3096 - acc: 0.7935 - val_loss: 3.3349 - val_acc: 0.7920\n",
      "Epoch 44/50\n",
      "564/564 [==============================] - 2s 3ms/step - loss: 3.3096 - acc: 0.7935 - val_loss: 3.3349 - val_acc: 0.7920\n",
      "Epoch 45/50\n",
      "564/564 [==============================] - 2s 3ms/step - loss: 3.3096 - acc: 0.7935 - val_loss: 3.3349 - val_acc: 0.7920\n",
      "Epoch 46/50\n",
      "564/564 [==============================] - 2s 3ms/step - loss: 3.3096 - acc: 0.7935 - val_loss: 3.3349 - val_acc: 0.7920\n",
      "Epoch 47/50\n",
      "564/564 [==============================] - 1s 3ms/step - loss: 3.3096 - acc: 0.7935 - val_loss: 3.3349 - val_acc: 0.7920\n",
      "Epoch 48/50\n",
      "564/564 [==============================] - 2s 3ms/step - loss: 3.3096 - acc: 0.7935 - val_loss: 3.3349 - val_acc: 0.7920\n",
      "Epoch 49/50\n",
      "564/564 [==============================] - 2s 3ms/step - loss: 3.3096 - acc: 0.7935 - val_loss: 3.3349 - val_acc: 0.7920\n",
      "Epoch 50/50\n",
      "564/564 [==============================] - 2s 3ms/step - loss: 3.3096 - acc: 0.7935 - val_loss: 3.3349 - val_acc: 0.7920\n"
     ]
    }
   ],
   "source": [
    "history = model_bnn.fit(X_train,\n",
    "                        y_train,\n",
    "                        epochs=50,\n",
    "                        batch_size=500,\n",
    "                        validation_data=(X_val, y_val),\n",
    "                        verbose=1)"
   ]
  },
  {
   "cell_type": "code",
   "execution_count": 30,
   "metadata": {},
   "outputs": [
    {
     "name": "stdout",
     "output_type": "stream",
     "text": [
      "177/177 [==============================] - 0s 88us/step\n",
      "Test Loss: 0.202\n",
      "Test Accuracy: 0.922\n"
     ]
    }
   ],
   "source": [
    "test_eval = model_bnn.evaluate(x=X_test, y= y_test)\n",
    "print(\"Test Loss: {}\".format(round(test_eval[0],3)))\n",
    "print(\"Test Accuracy: {}\".format(round(test_eval[1],3)))"
   ]
  },
  {
   "cell_type": "markdown",
   "metadata": {},
   "source": [
    "---"
   ]
  },
  {
   "cell_type": "markdown",
   "metadata": {},
   "source": [
    "### Chris' Model"
   ]
  },
  {
   "cell_type": "code",
   "execution_count": 55,
   "metadata": {},
   "outputs": [
    {
     "name": "stdout",
     "output_type": "stream",
     "text": [
      "_________________________________________________________________\n",
      "Layer (type)                 Output Shape              Param #   \n",
      "=================================================================\n",
      "dense_20 (Dense)             (None, 32)                48032     \n",
      "_________________________________________________________________\n",
      "dropout_4 (Dropout)          (None, 32)                0         \n",
      "_________________________________________________________________\n",
      "dense_21 (Dense)             (None, 18)                594       \n",
      "_________________________________________________________________\n",
      "dense_22 (Dense)             (None, 9)                 171       \n",
      "=================================================================\n",
      "Total params: 48,797\n",
      "Trainable params: 48,797\n",
      "Non-trainable params: 0\n",
      "_________________________________________________________________\n",
      "Train on 564 samples, validate on 177 samples\n",
      "Epoch 1/50\n",
      "564/564 [==============================] - 49s 87ms/step - loss: 0.3493 - acc: 0.8889 - val_loss: 0.3470 - val_acc: 0.8889\n",
      "Epoch 2/50\n",
      "564/564 [==============================] - 0s 114us/step - loss: 0.3473 - acc: 0.8889 - val_loss: 0.3455 - val_acc: 0.8889\n",
      "Epoch 3/50\n",
      "564/564 [==============================] - 0s 110us/step - loss: 0.3456 - acc: 0.8889 - val_loss: 0.3440 - val_acc: 0.8889\n",
      "Epoch 4/50\n",
      "564/564 [==============================] - 0s 76us/step - loss: 0.3439 - acc: 0.8889 - val_loss: 0.3425 - val_acc: 0.8889\n",
      "Epoch 5/50\n",
      "564/564 [==============================] - 0s 78us/step - loss: 0.3421 - acc: 0.8889 - val_loss: 0.3409 - val_acc: 0.8889\n",
      "Epoch 6/50\n",
      "564/564 [==============================] - 0s 76us/step - loss: 0.3404 - acc: 0.8889 - val_loss: 0.3391 - val_acc: 0.8889\n",
      "Epoch 7/50\n",
      "564/564 [==============================] - 0s 79us/step - loss: 0.3382 - acc: 0.8889 - val_loss: 0.3373 - val_acc: 0.8889\n",
      "Epoch 8/50\n",
      "564/564 [==============================] - 0s 75us/step - loss: 0.3363 - acc: 0.8889 - val_loss: 0.3353 - val_acc: 0.8889\n",
      "Epoch 9/50\n",
      "564/564 [==============================] - 0s 59us/step - loss: 0.3338 - acc: 0.8889 - val_loss: 0.3334 - val_acc: 0.8889\n",
      "Epoch 10/50\n",
      "564/564 [==============================] - 0s 59us/step - loss: 0.3316 - acc: 0.8889 - val_loss: 0.3313 - val_acc: 0.8889\n",
      "Epoch 11/50\n",
      "564/564 [==============================] - 0s 67us/step - loss: 0.3300 - acc: 0.8889 - val_loss: 0.3292 - val_acc: 0.8889\n",
      "Epoch 12/50\n",
      "564/564 [==============================] - 0s 58us/step - loss: 0.3275 - acc: 0.8889 - val_loss: 0.3270 - val_acc: 0.8889\n",
      "Epoch 13/50\n",
      "564/564 [==============================] - 0s 61us/step - loss: 0.3253 - acc: 0.8889 - val_loss: 0.3249 - val_acc: 0.8889\n",
      "Epoch 14/50\n",
      "564/564 [==============================] - 0s 66us/step - loss: 0.3223 - acc: 0.8889 - val_loss: 0.3226 - val_acc: 0.8889\n",
      "Epoch 15/50\n",
      "564/564 [==============================] - 0s 58us/step - loss: 0.3191 - acc: 0.8889 - val_loss: 0.3204 - val_acc: 0.8889\n",
      "Epoch 16/50\n",
      "564/564 [==============================] - 0s 55us/step - loss: 0.3167 - acc: 0.8889 - val_loss: 0.3181 - val_acc: 0.8889\n",
      "Epoch 17/50\n",
      "564/564 [==============================] - 0s 61us/step - loss: 0.3142 - acc: 0.8889 - val_loss: 0.3158 - val_acc: 0.8889\n",
      "Epoch 18/50\n",
      "564/564 [==============================] - 0s 56us/step - loss: 0.3109 - acc: 0.8889 - val_loss: 0.3136 - val_acc: 0.8889\n",
      "Epoch 19/50\n",
      "564/564 [==============================] - 0s 61us/step - loss: 0.3080 - acc: 0.8889 - val_loss: 0.3113 - val_acc: 0.8889\n",
      "Epoch 20/50\n",
      "564/564 [==============================] - 0s 62us/step - loss: 0.3053 - acc: 0.8889 - val_loss: 0.3091 - val_acc: 0.8889\n",
      "Epoch 21/50\n",
      "564/564 [==============================] - 0s 55us/step - loss: 0.3025 - acc: 0.8889 - val_loss: 0.3069 - val_acc: 0.8889\n",
      "Epoch 22/50\n",
      "564/564 [==============================] - 0s 66us/step - loss: 0.2990 - acc: 0.8889 - val_loss: 0.3047 - val_acc: 0.8889\n",
      "Epoch 23/50\n",
      "564/564 [==============================] - 0s 61us/step - loss: 0.2974 - acc: 0.8893 - val_loss: 0.3027 - val_acc: 0.8889\n",
      "Epoch 24/50\n",
      "564/564 [==============================] - 0s 73us/step - loss: 0.2930 - acc: 0.8889 - val_loss: 0.3007 - val_acc: 0.8889\n",
      "Epoch 25/50\n",
      "564/564 [==============================] - 0s 61us/step - loss: 0.2902 - acc: 0.8893 - val_loss: 0.2988 - val_acc: 0.8889\n",
      "Epoch 26/50\n",
      "564/564 [==============================] - 0s 61us/step - loss: 0.2872 - acc: 0.8893 - val_loss: 0.2969 - val_acc: 0.8895\n",
      "Epoch 27/50\n",
      "564/564 [==============================] - 0s 62us/step - loss: 0.2841 - acc: 0.8907 - val_loss: 0.2950 - val_acc: 0.8901\n",
      "Epoch 28/50\n",
      "564/564 [==============================] - 0s 66us/step - loss: 0.2833 - acc: 0.8901 - val_loss: 0.2932 - val_acc: 0.8914\n",
      "Epoch 29/50\n",
      "564/564 [==============================] - 0s 70us/step - loss: 0.2792 - acc: 0.8911 - val_loss: 0.2914 - val_acc: 0.8914\n",
      "Epoch 30/50\n",
      "564/564 [==============================] - 0s 62us/step - loss: 0.2766 - acc: 0.8911 - val_loss: 0.2896 - val_acc: 0.8914\n",
      "Epoch 31/50\n",
      "564/564 [==============================] - 0s 57us/step - loss: 0.2749 - acc: 0.8907 - val_loss: 0.2879 - val_acc: 0.8908\n",
      "Epoch 32/50\n",
      "564/564 [==============================] - 0s 59us/step - loss: 0.2708 - acc: 0.8938 - val_loss: 0.2862 - val_acc: 0.8908\n",
      "Epoch 33/50\n",
      "564/564 [==============================] - 0s 58us/step - loss: 0.2673 - acc: 0.8942 - val_loss: 0.2845 - val_acc: 0.8889\n",
      "Epoch 34/50\n",
      "564/564 [==============================] - 0s 62us/step - loss: 0.2661 - acc: 0.8932 - val_loss: 0.2828 - val_acc: 0.8895\n",
      "Epoch 35/50\n",
      "564/564 [==============================] - 0s 61us/step - loss: 0.2634 - acc: 0.8954 - val_loss: 0.2813 - val_acc: 0.8901\n",
      "Epoch 36/50\n",
      "564/564 [==============================] - 0s 57us/step - loss: 0.2602 - acc: 0.8972 - val_loss: 0.2798 - val_acc: 0.8927\n",
      "Epoch 37/50\n",
      "564/564 [==============================] - 0s 55us/step - loss: 0.2557 - acc: 0.8995 - val_loss: 0.2784 - val_acc: 0.8939\n",
      "Epoch 38/50\n",
      "564/564 [==============================] - 0s 71us/step - loss: 0.2553 - acc: 0.9009 - val_loss: 0.2771 - val_acc: 0.8933\n",
      "Epoch 39/50\n",
      "564/564 [==============================] - 0s 69us/step - loss: 0.2514 - acc: 0.9037 - val_loss: 0.2756 - val_acc: 0.8939\n",
      "Epoch 40/50\n",
      "564/564 [==============================] - 0s 71us/step - loss: 0.2494 - acc: 0.9043 - val_loss: 0.2739 - val_acc: 0.8945\n",
      "Epoch 41/50\n",
      "564/564 [==============================] - 0s 57us/step - loss: 0.2460 - acc: 0.9046 - val_loss: 0.2723 - val_acc: 0.8958\n",
      "Epoch 42/50\n",
      "564/564 [==============================] - 0s 59us/step - loss: 0.2433 - acc: 0.9056 - val_loss: 0.2708 - val_acc: 0.8952\n",
      "Epoch 43/50\n",
      "564/564 [==============================] - 0s 53us/step - loss: 0.2413 - acc: 0.9094 - val_loss: 0.2693 - val_acc: 0.8970\n",
      "Epoch 44/50\n",
      "564/564 [==============================] - 0s 55us/step - loss: 0.2397 - acc: 0.9108 - val_loss: 0.2678 - val_acc: 0.8977\n",
      "Epoch 45/50\n",
      "564/564 [==============================] - 0s 53us/step - loss: 0.2362 - acc: 0.9121 - val_loss: 0.2665 - val_acc: 0.8983\n",
      "Epoch 46/50\n",
      "564/564 [==============================] - 0s 61us/step - loss: 0.2346 - acc: 0.9115 - val_loss: 0.2651 - val_acc: 0.9014\n",
      "Epoch 47/50\n",
      "564/564 [==============================] - 0s 57us/step - loss: 0.2315 - acc: 0.9143 - val_loss: 0.2636 - val_acc: 0.9008\n",
      "Epoch 48/50\n",
      "564/564 [==============================] - 0s 50us/step - loss: 0.2281 - acc: 0.9125 - val_loss: 0.2620 - val_acc: 0.9021\n",
      "Epoch 49/50\n",
      "564/564 [==============================] - 0s 52us/step - loss: 0.2270 - acc: 0.9178 - val_loss: 0.2605 - val_acc: 0.9021\n",
      "Epoch 50/50\n",
      "564/564 [==============================] - 0s 57us/step - loss: 0.2246 - acc: 0.9190 - val_loss: 0.2590 - val_acc: 0.9027\n",
      "Training Accuracy: 0.9245\n",
      "Test Accuracy: 0.9027\n"
     ]
    },
    {
     "data": {
      "image/png": "[encoded data removed]",
      "text/plain": [
       "<Figure size 864x360 with 2 Axes>"
      ]
     },
     "metadata": {},
     "output_type": "display_data"
    }
   ],
   "source": [
    "num_features = X_train.shape[1]\n",
    "\n",
    "def plot_history(history):\n",
    "    acc = history.history['acc']\n",
    "    val_acc = history.history['val_acc']\n",
    "    loss = history.history['loss']\n",
    "    val_loss = history.history['val_loss']\n",
    "    x = range(1, len(acc) + 1)\n",
    "\n",
    "    plt.figure(figsize=(12, 5))\n",
    "    plt.subplot(1, 2, 1)\n",
    "    plt.plot(x, acc, 'b', label='Training acc')\n",
    "    plt.plot(x, val_acc, 'r', label='Validation acc')\n",
    "    plt.title('Training and validation accuracy')\n",
    "    plt.legend()\n",
    "    plt.subplot(1, 2, 2)\n",
    "    plt.plot(x, loss, 'b', label='Training loss')\n",
    "    plt.plot(x, val_loss, 'r', label='Validation loss')\n",
    "    plt.title('Training and validation loss')\n",
    "    plt.legend()\n",
    "\n",
    "def CNN_model(x_train, y_train, x_test, y_test, num_features, num_layers = 1, \n",
    "              loss='binary_crossentropy', optimizer ='adam', num_epochs=25, \n",
    "              n_batch_size = 500, model_summary = True, plot = True):\n",
    "\n",
    "    '''Inputs\n",
    "    1. num_layers:      Choose number of layers to trian CNN\n",
    "    2. loss:            See keras documentation for full list of options https://keras.io/losses/\n",
    "    3. optimizer        See keras https://keras.io/optimizers/\n",
    "    4. num_epochs:      Number of epochs to use in training\n",
    "    5. n_batch_size:    Sample size to use for each node \n",
    "    6. plot:            If you want to plot the Train/Test accuracy and loss curves\n",
    "    '''\n",
    "\n",
    "    # Instantiate Model\n",
    "    model = keras.Sequential()\n",
    "\n",
    "    # Add Layers\n",
    "    '''input_shape: specifies the dimension of the input to the layer\n",
    "        activation:  function used to activate the layer\n",
    "        units:       number of neurons in the layer.  if our output is 1, and we are on the last\n",
    "                layer, then units should = 1.'''\n",
    "\n",
    "    # Build Model\n",
    "    if num_layers ==1:\n",
    "        model.add(layers.Dense(units = 9, input_shape = [num_features], activation = 'relu'))\n",
    "\n",
    "    elif num_layers ==2:\n",
    "        model.add(keras.layers.Dense(units = 18, input_shape = [num_features], activation = 'relu'))\n",
    "        model.add(keras.layers.Dropout(0.25))\n",
    "        model.add(keras.layers.Dense(units = 9, activation = 'softmax'))\n",
    "\n",
    "    elif num_layers == 3:\n",
    "        model.add(keras.layers.Dense(units = 32, input_shape = [num_features], activation = 'relu'))\n",
    "        model.add(keras.layers.Dropout(0.25))\n",
    "        model.add(keras.layers.Dense(units = 18))\n",
    "        model.add(keras.layers.Dense(units = 9, activation = 'softmax'))\n",
    "\n",
    "    elif num_layers == 4:\n",
    "        model.add(keras.layers.Dense(units = 64, input_shape = [num_features], activation = 'relu'))\n",
    "        model.add(keras.layers.Dropout(0.25))\n",
    "        model.add(keras.layers.Dense(units = 32))\n",
    "        model.add(keras.layers.Dense(units = 18))\n",
    "        model.add(keras.layers.Dense(units = 9, activation = 'softmax'))\n",
    "            \n",
    "    # Specify Optomizer\n",
    "    model.compile(loss='binary_crossentropy', \n",
    "                  optimizer='adam', \n",
    "                  metrics=['accuracy'])\n",
    "    # Prints Summary of NN Structure\n",
    "    if model_summary == True:\n",
    "        model.summary()\n",
    "\n",
    "    # Set Number of Epochs\n",
    "    history = model.fit(x_train, y_train, \n",
    "                    epochs= num_epochs, \n",
    "                    verbose=1, \n",
    "                    validation_data=(x_test, y_test),\n",
    "                    batch_size=n_batch_size)\n",
    "\n",
    "    # Measure Accuracy of Model\n",
    "    loss, accuracy = model.evaluate(x_train, y_train, verbose=False)\n",
    "    print('Training Accuracy: {}'.format(round(accuracy,4)))\n",
    "    loss, accuracy = model.evaluate(x_test, y_test, verbose=False)\n",
    "    print('Test Accuracy: {}'.format(round(accuracy, 4)))\n",
    "\n",
    "    if plot == True:\n",
    "        plt.style.use('ggplot')\n",
    "        plot_history(history)\n",
    "        plt.show()\n",
    "    \n",
    "    # End Of Function---------------------------------\n",
    "\n",
    "\n",
    "\n",
    "CNN_model(X_train, y_train, X_test, y_test, num_layers = 3, \n",
    "          num_features = num_features, loss='binary_crossentropy', \n",
    "          num_epochs = 50, n_batch_size = 500, \n",
    "          model_summary = True, plot = True)"
   ]
  },
  {
   "cell_type": "code",
   "execution_count": null,
   "metadata": {},
   "outputs": [],
   "source": []
  },
  {
   "cell_type": "code",
   "execution_count": null,
   "metadata": {},
   "outputs": [],
   "source": []
  },
  {
   "cell_type": "code",
   "execution_count": null,
   "metadata": {},
   "outputs": [],
   "source": []
  },
  {
   "cell_type": "code",
   "execution_count": null,
   "metadata": {},
   "outputs": [],
   "source": []
  },
  {
   "cell_type": "code",
   "execution_count": null,
   "metadata": {},
   "outputs": [],
   "source": []
  },
  {
   "cell_type": "markdown",
   "metadata": {},
   "source": [
    "##### RNN"
   ]
  },
  {
   "cell_type": "code",
   "execution_count": null,
   "metadata": {},
   "outputs": [],
   "source": []
  },
  {
   "cell_type": "code",
   "execution_count": null,
   "metadata": {},
   "outputs": [],
   "source": []
  },
  {
   "cell_type": "code",
   "execution_count": null,
   "metadata": {},
   "outputs": [],
   "source": []
  },
  {
   "cell_type": "markdown",
   "metadata": {},
   "source": [
    "##### CNN"
   ]
  },
  {
   "cell_type": "code",
   "execution_count": null,
   "metadata": {},
   "outputs": [],
   "source": []
  },
  {
   "cell_type": "code",
   "execution_count": null,
   "metadata": {},
   "outputs": [],
   "source": []
  },
  {
   "cell_type": "markdown",
   "metadata": {},
   "source": [
    "#### Adding Word Embeddings"
   ]
  },
  {
   "cell_type": "code",
   "execution_count": null,
   "metadata": {},
   "outputs": [],
   "source": []
  },
  {
   "cell_type": "code",
   "execution_count": null,
   "metadata": {},
   "outputs": [],
   "source": []
  }
 ],
 "metadata": {
  "kernelspec": {
   "display_name": "Python 3",
   "language": "python",
   "name": "python3"
  },
  "language_info": {
   "codemirror_mode": {
    "name": "ipython",
    "version": 3
   },
   "file_extension": ".py",
   "mimetype": "text/x-python",
   "name": "python",
   "nbconvert_exporter": "python",
   "pygments_lexer": "ipython3",
   "version": "3.6.5"
  }
 },
 "nbformat": 4,
 "nbformat_minor": 2
}
