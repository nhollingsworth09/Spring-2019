{
 "cells": [
  {
   "cell_type": "code",
   "execution_count": 3,
   "metadata": {},
   "outputs": [],
   "source": [
    "import warnings\n",
    "warnings.filterwarnings(\"ignore\")\n",
    "\n",
    "import pandas as pd\n",
    "import numpy as np\n",
    "import datetime\n",
    "import nltk\n",
    "import string\n",
    "import re\n",
    "import os\n",
    "import matplotlib.pyplot as plt\n",
    "\n",
    "import warnings\n",
    "warnings.filterwarnings(\"ignore\")\n",
    "\n",
    "#nltk.download('punkt')\n",
    "#nltk.download('wordnet')\n",
    "#nltk.download('stopwords')\n",
    "\n",
    "#-- Text Preprocessing\n",
    "from sklearn.feature_extraction.text import TfidfVectorizer\n",
    "from collections import Counter\n",
    "from nltk.tokenize import word_tokenize\n",
    "from nltk.stem import PorterStemmer\n",
    "from nltk.corpus import stopwords\n",
    "from nltk.stem import WordNetLemmatizer\n",
    "\n",
    "#-- Neural Network\n",
    "import tensorflow as tf\n",
    "from tensorflow import keras"
   ]
  },
  {
   "cell_type": "markdown",
   "metadata": {},
   "source": [
    "---"
   ]
  },
  {
   "cell_type": "markdown",
   "metadata": {},
   "source": [
    "## Preprocessing used in ProjA"
   ]
  },
  {
   "cell_type": "code",
   "execution_count": 4,
   "metadata": {},
   "outputs": [
    {
     "name": "stdout",
     "output_type": "stream",
     "text": [
      "Data has been loaded. Elapsed Time: 28.744419 seconds\n"
     ]
    }
   ],
   "source": [
    "start = datetime.datetime.now()\n",
    "\n",
    "labels = pd.read_fwf(\"label.txt\", header=None)\n",
    "patents = pd.read_fwf(\"train.txt\", header=None)\n",
    "\n",
    "finish = datetime.datetime.now()\n",
    "print(\"Data has been loaded. Elapsed Time: {} seconds\".format((finish-start).total_seconds()))"
   ]
  },
  {
   "cell_type": "code",
   "execution_count": 5,
   "metadata": {},
   "outputs": [],
   "source": [
    "'''\n",
    "Setting column names for joining\n",
    "'''\n",
    "patents = patents.iloc[:,[0,1]]\n",
    "patents.columns = ['ID', 'Document']\n",
    "labels.columns = ['ID', 'Label']"
   ]
  },
  {
   "cell_type": "code",
   "execution_count": 6,
   "metadata": {},
   "outputs": [
    {
     "data": {
      "text/html": [
       "<div>\n",
       "<style scoped>\n",
       "    .dataframe tbody tr th:only-of-type {\n",
       "        vertical-align: middle;\n",
       "    }\n",
       "\n",
       "    .dataframe tbody tr th {\n",
       "        vertical-align: top;\n",
       "    }\n",
       "\n",
       "    .dataframe thead th {\n",
       "        text-align: right;\n",
       "    }\n",
       "</style>\n",
       "<table border=\"1\" class=\"dataframe\">\n",
       "  <thead>\n",
       "    <tr style=\"text-align: right;\">\n",
       "      <th></th>\n",
       "      <th>ID</th>\n",
       "      <th>Document</th>\n",
       "      <th>Label</th>\n",
       "    </tr>\n",
       "  </thead>\n",
       "  <tbody>\n",
       "    <tr>\n",
       "      <th>0</th>\n",
       "      <td>20030006121</td>\n",
       "      <td>Passive radio frequency identification system ...</td>\n",
       "      <td>8</td>\n",
       "    </tr>\n",
       "    <tr>\n",
       "      <th>1</th>\n",
       "      <td>20030009666</td>\n",
       "      <td>Methods and apparatus for efficient computatio...</td>\n",
       "      <td>0</td>\n",
       "    </tr>\n",
       "    <tr>\n",
       "      <th>2</th>\n",
       "      <td>20030014337</td>\n",
       "      <td>Systems, methods and computer program products...</td>\n",
       "      <td>8</td>\n",
       "    </tr>\n",
       "    <tr>\n",
       "      <th>3</th>\n",
       "      <td>20030019942</td>\n",
       "      <td>System and method for electronically readable ...</td>\n",
       "      <td>8</td>\n",
       "    </tr>\n",
       "    <tr>\n",
       "      <th>4</th>\n",
       "      <td>20030033242</td>\n",
       "      <td>System and method for automated process of dea...</td>\n",
       "      <td>6</td>\n",
       "    </tr>\n",
       "  </tbody>\n",
       "</table>\n",
       "</div>"
      ],
      "text/plain": [
       "            ID                                           Document  Label\n",
       "0  20030006121  Passive radio frequency identification system ...      8\n",
       "1  20030009666  Methods and apparatus for efficient computatio...      0\n",
       "2  20030014337  Systems, methods and computer program products...      8\n",
       "3  20030019942  System and method for electronically readable ...      8\n",
       "4  20030033242  System and method for automated process of dea...      6"
      ]
     },
     "execution_count": 6,
     "metadata": {},
     "output_type": "execute_result"
    }
   ],
   "source": [
    "pats = patents.join(labels.set_index('ID'), on = 'ID')\n",
    "pats.head()"
   ]
  },
  {
   "cell_type": "code",
   "execution_count": 7,
   "metadata": {},
   "outputs": [
    {
     "name": "stdout",
     "output_type": "stream",
     "text": [
      "Punctuation removed from patent! Elapsed Time: 11.908159 seconds\n"
     ]
    }
   ],
   "source": [
    "#Removing Punctuation\n",
    "\n",
    "def no_punctuation(document):\n",
    "    no_punc = ''.join([character for character in document if character not in string.punctuation])\n",
    "    return no_punc\n",
    "\n",
    "start = datetime.datetime.now()\n",
    "pats.Document = list(map(no_punctuation, pats.Document))\n",
    "finish = datetime.datetime.now()\n",
    "\n",
    "print(\"Punctuation removed from patent! Elapsed Time: {} seconds\".format((finish-start).total_seconds()))"
   ]
  },
  {
   "cell_type": "code",
   "execution_count": 8,
   "metadata": {},
   "outputs": [
    {
     "name": "stdout",
     "output_type": "stream",
     "text": [
      "Patents tokenized! Elapsed Time: 102.275505 seconds\n"
     ]
    }
   ],
   "source": [
    "# Tokenization\n",
    "def tokenize(document):\n",
    "    tokened = nltk.word_tokenize(document)\n",
    "    return tokened\n",
    "\n",
    "start = datetime.datetime.now()\n",
    "pats.Document = list(map(tokenize, pats.Document))\n",
    "finish = datetime.datetime.now()\n",
    "\n",
    "print(\"Patents tokenized! Elapsed Time: {} seconds\".format((finish-start).total_seconds()))\n"
   ]
  },
  {
   "cell_type": "code",
   "execution_count": 9,
   "metadata": {},
   "outputs": [
    {
     "name": "stdout",
     "output_type": "stream",
     "text": [
      "Stop words removed from patents! Elapsed Time: 18.624167 seconds\n"
     ]
    }
   ],
   "source": [
    "# Stop Word and Numeric Removal \n",
    "def no_stops(document):\n",
    "    stop_words = set(stopwords.words('english'))\n",
    "    no_stop = [word.lower() for word in document if word not in stop_words]\n",
    "    no_numeric = [word for word in no_stop if not any(num.isdigit() for num in word)]\n",
    "    return no_numeric\n",
    "\n",
    "start = datetime.datetime.now()\n",
    "pats.Document = list(map(no_stops, pats.Document))\n",
    "finish = datetime.datetime.now()\n",
    "\n",
    "print(\"Stop words removed from patents! Elapsed Time: {} seconds\".format((finish-start).total_seconds()))"
   ]
  },
  {
   "cell_type": "code",
   "execution_count": 10,
   "metadata": {},
   "outputs": [
    {
     "name": "stdout",
     "output_type": "stream",
     "text": [
      "Root words generated for patents! Elapsed Time: 406.214562 seconds\n"
     ]
    }
   ],
   "source": [
    "# Stemming [state = 0], Lemmatizing [state = 1]\n",
    "\n",
    "def generate_root(document, state):\n",
    "    if state == 0:\n",
    "        stemmer = PorterStemmer()\n",
    "        stemmed = [stemmer.stem(word.lower()) for word in document] \n",
    "        return stemmed\n",
    "    elif state == 1:\n",
    "        '''\n",
    "        Lemmatization has a drawback of needing to specify part of speech. Example:\n",
    "            For noun, 'building' == 'building',\n",
    "            For verb, 'building' == 'build'\n",
    "        '''\n",
    "        lemmatizer = WordNetLemmatizer()\n",
    "        lemmatized = [lemmatizer.lemmatize(word.lower(), pos = ['n']) for word in document]\n",
    "        return lemmatized\n",
    "    else:\n",
    "        return document\n",
    "\n",
    "    \n",
    "start = datetime.datetime.now()\n",
    "pats.Document = list(map(lambda x: generate_root(x,0), pats.Document)) #State is specified here\n",
    "finish = datetime.datetime.now()\n",
    "\n",
    "print(\"Root words generated for patents! Elapsed Time: {} seconds\".format((finish-start).total_seconds()))"
   ]
  },
  {
   "cell_type": "code",
   "execution_count": 11,
   "metadata": {},
   "outputs": [
    {
     "name": "stdout",
     "output_type": "stream",
     "text": [
      "Patents have been rejoined after preprocessing! Elapsed Time: 0.76196 seconds\n"
     ]
    }
   ],
   "source": [
    "# Rejoining Text After Cleaning\n",
    "\n",
    "def cleaned_document(document):\n",
    "    doc = ' '.join(document)\n",
    "    return doc\n",
    "\n",
    "start = datetime.datetime.now()\n",
    "pats.Document = pats.Document.apply(cleaned_document)\n",
    "finish = datetime.datetime.now()\n",
    "\n",
    "print(\"Patents have been rejoined after preprocessing! Elapsed Time: {} seconds\".format((finish-start).total_seconds()))"
   ]
  },
  {
   "cell_type": "markdown",
   "metadata": {},
   "source": [
    "### Vectorization of Documents"
   ]
  },
  {
   "cell_type": "code",
   "execution_count": 12,
   "metadata": {},
   "outputs": [
    {
     "data": {
      "text/plain": [
       "0    passiv radio frequenc identif system identifi ...\n",
       "1    method apparatu effici comput oneway chain cry...\n",
       "2    system method comput program product perform g...\n",
       "3    system method electron readabl card power sour...\n",
       "4    system method autom process deal structur an a...\n",
       "5    vehicl shop buy system method a complet intern...\n",
       "6    game cash manag slip method the invent cash ma...\n",
       "Name: Document, dtype: object"
      ]
     },
     "execution_count": 12,
     "metadata": {},
     "output_type": "execute_result"
    }
   ],
   "source": [
    "pats.Document[0:7]"
   ]
  },
  {
   "cell_type": "code",
   "execution_count": 13,
   "metadata": {},
   "outputs": [
    {
     "data": {
      "text/html": [
       "<div>\n",
       "<style scoped>\n",
       "    .dataframe tbody tr th:only-of-type {\n",
       "        vertical-align: middle;\n",
       "    }\n",
       "\n",
       "    .dataframe tbody tr th {\n",
       "        vertical-align: top;\n",
       "    }\n",
       "\n",
       "    .dataframe thead th {\n",
       "        text-align: right;\n",
       "    }\n",
       "</style>\n",
       "<table border=\"1\" class=\"dataframe\">\n",
       "  <thead>\n",
       "    <tr style=\"text-align: right;\">\n",
       "      <th></th>\n",
       "      <th>abil</th>\n",
       "      <th>abl</th>\n",
       "      <th>abl access</th>\n",
       "      <th>abl use</th>\n",
       "      <th>abovedescrib</th>\n",
       "      <th>absenc</th>\n",
       "      <th>abstract</th>\n",
       "      <th>acceler</th>\n",
       "      <th>accept</th>\n",
       "      <th>accept payment</th>\n",
       "      <th>...</th>\n",
       "      <th>xml</th>\n",
       "      <th>ye</th>\n",
       "      <th>year</th>\n",
       "      <th>yet</th>\n",
       "      <th>yet anoth</th>\n",
       "      <th>yield</th>\n",
       "      <th>zero</th>\n",
       "      <th>zip</th>\n",
       "      <th>zip code</th>\n",
       "      <th>âˆ</th>\n",
       "    </tr>\n",
       "  </thead>\n",
       "  <tbody>\n",
       "    <tr>\n",
       "      <th>0</th>\n",
       "      <td>0.015772</td>\n",
       "      <td>0.000000</td>\n",
       "      <td>0.0</td>\n",
       "      <td>0.0</td>\n",
       "      <td>0.000000</td>\n",
       "      <td>0.000000</td>\n",
       "      <td>0.000000</td>\n",
       "      <td>0.0</td>\n",
       "      <td>0.000000</td>\n",
       "      <td>0.0</td>\n",
       "      <td>...</td>\n",
       "      <td>0.0</td>\n",
       "      <td>0.000000</td>\n",
       "      <td>0.000000</td>\n",
       "      <td>0.000000</td>\n",
       "      <td>0.0</td>\n",
       "      <td>0.0</td>\n",
       "      <td>0.000000</td>\n",
       "      <td>0.0</td>\n",
       "      <td>0.0</td>\n",
       "      <td>0.0</td>\n",
       "    </tr>\n",
       "    <tr>\n",
       "      <th>1</th>\n",
       "      <td>0.000000</td>\n",
       "      <td>0.001681</td>\n",
       "      <td>0.0</td>\n",
       "      <td>0.0</td>\n",
       "      <td>0.019868</td>\n",
       "      <td>0.000000</td>\n",
       "      <td>0.000000</td>\n",
       "      <td>0.0</td>\n",
       "      <td>0.003259</td>\n",
       "      <td>0.0</td>\n",
       "      <td>...</td>\n",
       "      <td>0.0</td>\n",
       "      <td>0.000000</td>\n",
       "      <td>0.004388</td>\n",
       "      <td>0.000000</td>\n",
       "      <td>0.0</td>\n",
       "      <td>0.0</td>\n",
       "      <td>0.000000</td>\n",
       "      <td>0.0</td>\n",
       "      <td>0.0</td>\n",
       "      <td>0.0</td>\n",
       "    </tr>\n",
       "    <tr>\n",
       "      <th>2</th>\n",
       "      <td>0.002063</td>\n",
       "      <td>0.001789</td>\n",
       "      <td>0.0</td>\n",
       "      <td>0.0</td>\n",
       "      <td>0.003524</td>\n",
       "      <td>0.000000</td>\n",
       "      <td>0.000000</td>\n",
       "      <td>0.0</td>\n",
       "      <td>0.001734</td>\n",
       "      <td>0.0</td>\n",
       "      <td>...</td>\n",
       "      <td>0.0</td>\n",
       "      <td>0.000000</td>\n",
       "      <td>0.004670</td>\n",
       "      <td>0.000000</td>\n",
       "      <td>0.0</td>\n",
       "      <td>0.0</td>\n",
       "      <td>0.043756</td>\n",
       "      <td>0.0</td>\n",
       "      <td>0.0</td>\n",
       "      <td>0.0</td>\n",
       "    </tr>\n",
       "    <tr>\n",
       "      <th>3</th>\n",
       "      <td>0.000000</td>\n",
       "      <td>0.000000</td>\n",
       "      <td>0.0</td>\n",
       "      <td>0.0</td>\n",
       "      <td>0.000000</td>\n",
       "      <td>0.000000</td>\n",
       "      <td>0.000000</td>\n",
       "      <td>0.0</td>\n",
       "      <td>0.000000</td>\n",
       "      <td>0.0</td>\n",
       "      <td>...</td>\n",
       "      <td>0.0</td>\n",
       "      <td>0.019893</td>\n",
       "      <td>0.000000</td>\n",
       "      <td>0.000000</td>\n",
       "      <td>0.0</td>\n",
       "      <td>0.0</td>\n",
       "      <td>0.000000</td>\n",
       "      <td>0.0</td>\n",
       "      <td>0.0</td>\n",
       "      <td>0.0</td>\n",
       "    </tr>\n",
       "    <tr>\n",
       "      <th>4</th>\n",
       "      <td>0.003374</td>\n",
       "      <td>0.001462</td>\n",
       "      <td>0.0</td>\n",
       "      <td>0.0</td>\n",
       "      <td>0.000000</td>\n",
       "      <td>0.001566</td>\n",
       "      <td>0.002956</td>\n",
       "      <td>0.0</td>\n",
       "      <td>0.007798</td>\n",
       "      <td>0.0</td>\n",
       "      <td>...</td>\n",
       "      <td>0.0</td>\n",
       "      <td>0.000000</td>\n",
       "      <td>0.022909</td>\n",
       "      <td>0.000796</td>\n",
       "      <td>0.0</td>\n",
       "      <td>0.0</td>\n",
       "      <td>0.000000</td>\n",
       "      <td>0.0</td>\n",
       "      <td>0.0</td>\n",
       "      <td>0.0</td>\n",
       "    </tr>\n",
       "  </tbody>\n",
       "</table>\n",
       "<p>5 rows × 4635 columns</p>\n",
       "</div>"
      ],
      "text/plain": [
       "       abil       abl  abl access  abl use  abovedescrib    absenc  abstract  \\\n",
       "0  0.015772  0.000000         0.0      0.0      0.000000  0.000000  0.000000   \n",
       "1  0.000000  0.001681         0.0      0.0      0.019868  0.000000  0.000000   \n",
       "2  0.002063  0.001789         0.0      0.0      0.003524  0.000000  0.000000   \n",
       "3  0.000000  0.000000         0.0      0.0      0.000000  0.000000  0.000000   \n",
       "4  0.003374  0.001462         0.0      0.0      0.000000  0.001566  0.002956   \n",
       "\n",
       "   acceler    accept  accept payment ...   xml        ye      year       yet  \\\n",
       "0      0.0  0.000000             0.0 ...   0.0  0.000000  0.000000  0.000000   \n",
       "1      0.0  0.003259             0.0 ...   0.0  0.000000  0.004388  0.000000   \n",
       "2      0.0  0.001734             0.0 ...   0.0  0.000000  0.004670  0.000000   \n",
       "3      0.0  0.000000             0.0 ...   0.0  0.019893  0.000000  0.000000   \n",
       "4      0.0  0.007798             0.0 ...   0.0  0.000000  0.022909  0.000796   \n",
       "\n",
       "   yet anoth  yield      zero  zip  zip code   âˆ  \n",
       "0        0.0    0.0  0.000000  0.0       0.0  0.0  \n",
       "1        0.0    0.0  0.000000  0.0       0.0  0.0  \n",
       "2        0.0    0.0  0.043756  0.0       0.0  0.0  \n",
       "3        0.0    0.0  0.000000  0.0       0.0  0.0  \n",
       "4        0.0    0.0  0.000000  0.0       0.0  0.0  \n",
       "\n",
       "[5 rows x 4635 columns]"
      ]
     },
     "execution_count": 13,
     "metadata": {},
     "output_type": "execute_result"
    }
   ],
   "source": [
    "tfidf = TfidfVectorizer(ngram_range = (1,2), analyzer ='word',min_df = .1, max_df=.95)\n",
    "\n",
    "vectors = tfidf.fit_transform(pats.Document)\n",
    "vectorDF = pd.DataFrame(data=vectors.toarray())\n",
    "vectorDF.columns = tfidf.get_feature_names()\n",
    "\n",
    "vectorDF.head()"
   ]
  },
  {
   "cell_type": "code",
   "execution_count": 14,
   "metadata": {},
   "outputs": [],
   "source": [
    "df = vectorDF.join(labels.Label)\n",
    "df_features = df.drop('Label', axis = 1)\n",
    "df_target = df['Label']"
   ]
  },
  {
   "cell_type": "markdown",
   "metadata": {},
   "source": [
    "### Feature Importance"
   ]
  },
  {
   "cell_type": "code",
   "execution_count": 15,
   "metadata": {},
   "outputs": [],
   "source": [
    "import matplotlib.pyplot as plt\n",
    "from sklearn.ensemble import ExtraTreesClassifier\n",
    "np.random.seed(4)\n",
    "\n",
    "features = df_features.columns\n",
    "\n",
    "importance_model = ExtraTreesClassifier()\n",
    "importance_model.fit(df_features, df_target)\n",
    "\n",
    "indices = np.argsort(importance_model.feature_importances_)"
   ]
  },
  {
   "cell_type": "code",
   "execution_count": 16,
   "metadata": {},
   "outputs": [
    {
     "name": "stdout",
     "output_type": "stream",
     "text": [
      "0.00963116780465739\n"
     ]
    },
    {
     "data": {
      "image/png": "[encoded data removed]",
      "text/plain": [
       "<Figure size 432x288 with 1 Axes>"
      ]
     },
     "metadata": {},
     "output_type": "display_data"
    }
   ],
   "source": [
    "values = pd.Series(importance_model.feature_importances_, index=features)\n",
    "print(max(values))\n",
    "values.sort_values(ascending=False).nlargest(20).plot(kind = 'barh', color = 'cornflowerblue', title = 'Feature Ranking').invert_yaxis()"
   ]
  },
  {
   "cell_type": "code",
   "execution_count": 17,
   "metadata": {},
   "outputs": [],
   "source": [
    "reduced_features = list(values.sort_values(ascending=False).nlargest(500).index)\n",
    "df_features_reduced = df_features.loc[:,reduced_features]"
   ]
  },
  {
   "cell_type": "markdown",
   "metadata": {},
   "source": [
    "## Modeling"
   ]
  },
  {
   "cell_type": "markdown",
   "metadata": {},
   "source": [
    "### Traditional ML Models"
   ]
  },
  {
   "cell_type": "code",
   "execution_count": 135,
   "metadata": {},
   "outputs": [],
   "source": [
    "#-- Modeling\n",
    "from sklearn.model_selection import StratifiedKFold\n",
    "from sklearn import model_selection\n",
    "from sklearn.linear_model import LogisticRegression\n",
    "from sklearn.tree import DecisionTreeClassifier\n",
    "from sklearn.neighbors import KNeighborsClassifier\n",
    "from sklearn.discriminant_analysis import LinearDiscriminantAnalysis\n",
    "from sklearn.naive_bayes import GaussianNB\n",
    "from sklearn.svm import SVC\n",
    "from sklearn.svm import LinearSVC\n",
    "from sklearn.svm import NuSVC\n",
    "from sklearn.ensemble import RandomForestClassifier"
   ]
  },
  {
   "cell_type": "code",
   "execution_count": 136,
   "metadata": {},
   "outputs": [],
   "source": [
    "# Prepare models\n",
    "models = []\n",
    "models.append(('LR', LogisticRegression()))\n",
    "models.append(('LDA', LinearDiscriminantAnalysis()))\n",
    "models.append(('KNN', KNeighborsClassifier()))\n",
    "models.append(('DT', DecisionTreeClassifier()))\n",
    "models.append(('NB', GaussianNB()))\n",
    "models.append(('LiSVM', LinearSVC()))\n",
    "models.append(('NuSVM', NuSVC(nu= 0.19)))\n",
    "models.append(('RF', RandomForestClassifier()))"
   ]
  },
  {
   "cell_type": "code",
   "execution_count": 143,
   "metadata": {},
   "outputs": [
    {
     "name": "stdout",
     "output_type": "stream",
     "text": [
      "LR: 0.567421 (0.096192)\n",
      "LDA: 0.475052 (0.048518)\n",
      "KNN: 0.580248 (0.075768)\n",
      "DT: 0.501024 (0.079549)\n",
      "NB: 0.536612 (0.092766)\n",
      "LiSVM: 0.626907 (0.103120)\n",
      "NuSVM: 0.546118 (0.079811)\n",
      "RF: 0.557186 (0.094251)\n"
     ]
    }
   ],
   "source": [
    "# Evaluate each model in turn\n",
    "results = []\n",
    "names = []\n",
    "scoring = 'accuracy'\n",
    "for name, model in models:\n",
    "    kfold = model_selection.StratifiedKFold(n_splits=10, random_state=1)\n",
    "    cv_results = model_selection.cross_val_score(model, df_features_reduced, df_target, cv=kfold, scoring=scoring)\n",
    "    results.append(cv_results)\n",
    "    names.append(name) \n",
    "    msg = \"%s: %f (%f)\" % (name, cv_results.mean(), cv_results.std())\n",
    "    print(msg)"
   ]
  },
  {
   "cell_type": "code",
   "execution_count": 144,
   "metadata": {},
   "outputs": [
    {
     "data": {
      "image/png": "[encoded data removed]",
      "text/plain": [
       "<Figure size 432x288 with 1 Axes>"
      ]
     },
     "metadata": {},
     "output_type": "display_data"
    }
   ],
   "source": [
    "# Boxplot algorithm comparison\n",
    "fig = plt.figure()\n",
    "fig.suptitle('Algorithm Comparison')\n",
    "ax = fig.add_subplot(111)\n",
    "plt.boxplot(results)\n",
    "ax.set_xticklabels(names)\n",
    "plt.show()\n",
    "fig.savefig('ModelPerformance_ProjB.png')"
   ]
  },
  {
   "cell_type": "markdown",
   "metadata": {},
   "source": [
    "As you can see, feature selection stabilized the model accuracies, with most ranging 50% to 60%."
   ]
  },
  {
   "cell_type": "markdown",
   "metadata": {},
   "source": [
    "## Neural Networks"
   ]
  },
  {
   "cell_type": "code",
   "execution_count": 40,
   "metadata": {},
   "outputs": [
    {
     "name": "stdout",
     "output_type": "stream",
     "text": [
      "2.2.4\n",
      "1.13.1\n"
     ]
    }
   ],
   "source": [
    "import keras\n",
    "import tensorflow as tf  \n",
    "print(keras.__version__)\n",
    "print(tf.__version__) "
   ]
  },
  {
   "cell_type": "markdown",
   "metadata": {},
   "source": [
    "-----------------------------------------------------------"
   ]
  },
  {
   "cell_type": "markdown",
   "metadata": {},
   "source": [
    "# This section was my attempt at preprocessing in Keras. Ignore and continue running at the end of section"
   ]
  },
  {
   "cell_type": "code",
   "execution_count": 18,
   "metadata": {},
   "outputs": [],
   "source": [
    "tk = keras.preprocessing.text.Tokenizer(num_words=5, filters='!\"#$%&()*+,-./:;<=>?@[\\\\]^_`{|}~\\t\\n', lower=True, split=' ', char_level=False, oov_token=None, document_count=0)\n",
    "\n"
   ]
  },
  {
   "cell_type": "code",
   "execution_count": 19,
   "metadata": {},
   "outputs": [
    {
     "name": "stdout",
     "output_type": "stream",
     "text": [
      "898\n",
      "305\n"
     ]
    },
    {
     "name": "stderr",
     "output_type": "stream",
     "text": [
      "Using TensorFlow backend.\n"
     ]
    }
   ],
   "source": [
    "from keras.preprocessing.text import text_to_word_sequence\n",
    "from keras.preprocessing.text import Tokenizer\n",
    "\n",
    "test = text_to_word_sequence(pats.iloc[0,1])\n",
    "\n",
    "# tokenize the document\n",
    "print(len(test)) #Number of words\n",
    "print(len(set(test))) #Number of unique words"
   ]
  },
  {
   "cell_type": "code",
   "execution_count": 20,
   "metadata": {},
   "outputs": [],
   "source": [
    "docs = [x for x in pats.iloc[:,1]]\n",
    "\n",
    "t = Tokenizer()\n",
    "t.fit_on_texts(docs)\n",
    "\n",
    "#print(t.word_counts)\n",
    "#print(t.document_count)\n",
    "#print(t.word_index)\n",
    "#print(t.word_docs)\n",
    "\n",
    "encoded_docs = t.texts_to_matrix(docs, mode='tfidf')"
   ]
  },
  {
   "cell_type": "code",
   "execution_count": 21,
   "metadata": {},
   "outputs": [
    {
     "data": {
      "text/html": [
       "<div>\n",
       "<style scoped>\n",
       "    .dataframe tbody tr th:only-of-type {\n",
       "        vertical-align: middle;\n",
       "    }\n",
       "\n",
       "    .dataframe tbody tr th {\n",
       "        vertical-align: top;\n",
       "    }\n",
       "\n",
       "    .dataframe thead th {\n",
       "        text-align: right;\n",
       "    }\n",
       "</style>\n",
       "<table border=\"1\" class=\"dataframe\">\n",
       "  <thead>\n",
       "    <tr style=\"text-align: right;\">\n",
       "      <th></th>\n",
       "      <th>may</th>\n",
       "      <th>the</th>\n",
       "      <th>transact</th>\n",
       "      <th>user</th>\n",
       "      <th>system</th>\n",
       "      <th>devic</th>\n",
       "      <th>data</th>\n",
       "      <th>account</th>\n",
       "      <th>payment</th>\n",
       "      <th>use</th>\n",
       "      <th>...</th>\n",
       "      <th>noninfiltr</th>\n",
       "      <th>databasesystem</th>\n",
       "      <th>—establish</th>\n",
       "      <th>fiveday</th>\n",
       "      <th>serviceaccount</th>\n",
       "      <th>embodiment—a</th>\n",
       "      <th>ways—manu</th>\n",
       "      <th>outofbound</th>\n",
       "      <th>coachingwarn</th>\n",
       "      <th>errorswarn</th>\n",
       "    </tr>\n",
       "  </thead>\n",
       "  <tbody>\n",
       "    <tr>\n",
       "      <th>0</th>\n",
       "      <td>0.694283</td>\n",
       "      <td>2.731843</td>\n",
       "      <td>2.150637</td>\n",
       "      <td>0.000000</td>\n",
       "      <td>2.714365</td>\n",
       "      <td>1.219553</td>\n",
       "      <td>2.275771</td>\n",
       "      <td>0.737922</td>\n",
       "      <td>0.000000</td>\n",
       "      <td>2.654810</td>\n",
       "      <td>...</td>\n",
       "      <td>0.0</td>\n",
       "      <td>0.0</td>\n",
       "      <td>0.0</td>\n",
       "      <td>0.0</td>\n",
       "      <td>0.0</td>\n",
       "      <td>0.0</td>\n",
       "      <td>0.0</td>\n",
       "      <td>0.0</td>\n",
       "      <td>0.0</td>\n",
       "      <td>0.0</td>\n",
       "    </tr>\n",
       "    <tr>\n",
       "      <th>1</th>\n",
       "      <td>3.424082</td>\n",
       "      <td>3.888924</td>\n",
       "      <td>0.000000</td>\n",
       "      <td>1.253801</td>\n",
       "      <td>1.820640</td>\n",
       "      <td>3.281160</td>\n",
       "      <td>0.000000</td>\n",
       "      <td>0.000000</td>\n",
       "      <td>1.304319</td>\n",
       "      <td>3.572943</td>\n",
       "      <td>...</td>\n",
       "      <td>0.0</td>\n",
       "      <td>0.0</td>\n",
       "      <td>0.0</td>\n",
       "      <td>0.0</td>\n",
       "      <td>0.0</td>\n",
       "      <td>0.0</td>\n",
       "      <td>0.0</td>\n",
       "      <td>0.0</td>\n",
       "      <td>0.0</td>\n",
       "      <td>0.0</td>\n",
       "    </tr>\n",
       "    <tr>\n",
       "      <th>2</th>\n",
       "      <td>3.592489</td>\n",
       "      <td>2.949076</td>\n",
       "      <td>0.000000</td>\n",
       "      <td>0.000000</td>\n",
       "      <td>3.588434</td>\n",
       "      <td>0.720287</td>\n",
       "      <td>0.711796</td>\n",
       "      <td>2.272387</td>\n",
       "      <td>0.770352</td>\n",
       "      <td>1.807247</td>\n",
       "      <td>...</td>\n",
       "      <td>0.0</td>\n",
       "      <td>0.0</td>\n",
       "      <td>0.0</td>\n",
       "      <td>0.0</td>\n",
       "      <td>0.0</td>\n",
       "      <td>0.0</td>\n",
       "      <td>0.0</td>\n",
       "      <td>0.0</td>\n",
       "      <td>0.0</td>\n",
       "      <td>0.0</td>\n",
       "    </tr>\n",
       "    <tr>\n",
       "      <th>3</th>\n",
       "      <td>3.559682</td>\n",
       "      <td>3.539693</td>\n",
       "      <td>2.372254</td>\n",
       "      <td>1.767086</td>\n",
       "      <td>2.714365</td>\n",
       "      <td>3.839661</td>\n",
       "      <td>2.275771</td>\n",
       "      <td>1.760899</td>\n",
       "      <td>0.770352</td>\n",
       "      <td>2.287307</td>\n",
       "      <td>...</td>\n",
       "      <td>0.0</td>\n",
       "      <td>0.0</td>\n",
       "      <td>0.0</td>\n",
       "      <td>0.0</td>\n",
       "      <td>0.0</td>\n",
       "      <td>0.0</td>\n",
       "      <td>0.0</td>\n",
       "      <td>0.0</td>\n",
       "      <td>0.0</td>\n",
       "      <td>0.0</td>\n",
       "    </tr>\n",
       "    <tr>\n",
       "      <th>4</th>\n",
       "      <td>4.578595</td>\n",
       "      <td>4.337419</td>\n",
       "      <td>1.838286</td>\n",
       "      <td>3.124140</td>\n",
       "      <td>3.454549</td>\n",
       "      <td>0.000000</td>\n",
       "      <td>3.156093</td>\n",
       "      <td>2.507381</td>\n",
       "      <td>4.286506</td>\n",
       "      <td>3.691963</td>\n",
       "      <td>...</td>\n",
       "      <td>0.0</td>\n",
       "      <td>0.0</td>\n",
       "      <td>0.0</td>\n",
       "      <td>0.0</td>\n",
       "      <td>0.0</td>\n",
       "      <td>0.0</td>\n",
       "      <td>0.0</td>\n",
       "      <td>0.0</td>\n",
       "      <td>0.0</td>\n",
       "      <td>0.0</td>\n",
       "    </tr>\n",
       "  </tbody>\n",
       "</table>\n",
       "<p>5 rows × 43212 columns</p>\n",
       "</div>"
      ],
      "text/plain": [
       "        may       the  transact      user    system     devic      data  \\\n",
       "0  0.694283  2.731843  2.150637  0.000000  2.714365  1.219553  2.275771   \n",
       "1  3.424082  3.888924  0.000000  1.253801  1.820640  3.281160  0.000000   \n",
       "2  3.592489  2.949076  0.000000  0.000000  3.588434  0.720287  0.711796   \n",
       "3  3.559682  3.539693  2.372254  1.767086  2.714365  3.839661  2.275771   \n",
       "4  4.578595  4.337419  1.838286  3.124140  3.454549  0.000000  3.156093   \n",
       "\n",
       "    account   payment       use     ...      noninfiltr  databasesystem  \\\n",
       "0  0.737922  0.000000  2.654810     ...             0.0             0.0   \n",
       "1  0.000000  1.304319  3.572943     ...             0.0             0.0   \n",
       "2  2.272387  0.770352  1.807247     ...             0.0             0.0   \n",
       "3  1.760899  0.770352  2.287307     ...             0.0             0.0   \n",
       "4  2.507381  4.286506  3.691963     ...             0.0             0.0   \n",
       "\n",
       "   —establish  fiveday  serviceaccount  embodiment—a  ways—manu  outofbound  \\\n",
       "0         0.0      0.0             0.0           0.0        0.0         0.0   \n",
       "1         0.0      0.0             0.0           0.0        0.0         0.0   \n",
       "2         0.0      0.0             0.0           0.0        0.0         0.0   \n",
       "3         0.0      0.0             0.0           0.0        0.0         0.0   \n",
       "4         0.0      0.0             0.0           0.0        0.0         0.0   \n",
       "\n",
       "   coachingwarn  errorswarn  \n",
       "0           0.0         0.0  \n",
       "1           0.0         0.0  \n",
       "2           0.0         0.0  \n",
       "3           0.0         0.0  \n",
       "4           0.0         0.0  \n",
       "\n",
       "[5 rows x 43212 columns]"
      ]
     },
     "execution_count": 21,
     "metadata": {},
     "output_type": "execute_result"
    }
   ],
   "source": [
    "df_keras = pd.DataFrame(encoded_docs)\n",
    "df_keras = df_keras.drop([0], axis = 1)\n",
    "df_keras.columns = columns=t.word_index.keys()\n",
    "df_keras.head(5)"
   ]
  },
  {
   "cell_type": "code",
   "execution_count": 292,
   "metadata": {},
   "outputs": [],
   "source": [
    "from sklearn.model_selection import StratifiedShuffleSplit\n",
    "\n",
    "sss = StratifiedShuffleSplit(n_splits=1, test_size=0.2, random_state=0)\n",
    "train_index, test_index = list(sss.split(df_keras, df_target))[0]\n",
    "\n",
    "df_train = df_keras.iloc[train_index,:]\n",
    "df_test = df_keras.iloc[test_index,:]"
   ]
  },
  {
   "cell_type": "code",
   "execution_count": 392,
   "metadata": {},
   "outputs": [
    {
     "data": {
      "text/plain": [
       "(882, 43212)"
      ]
     },
     "execution_count": 392,
     "metadata": {},
     "output_type": "execute_result"
    }
   ],
   "source": [
    "df_keras.shape"
   ]
  },
  {
   "cell_type": "code",
   "execution_count": 295,
   "metadata": {},
   "outputs": [
    {
     "data": {
      "text/plain": [
       "(882,)"
      ]
     },
     "execution_count": 295,
     "metadata": {},
     "output_type": "execute_result"
    }
   ],
   "source": [
    "df_target.shape"
   ]
  },
  {
   "cell_type": "markdown",
   "metadata": {},
   "source": [
    "# END OF SECTION"
   ]
  },
  {
   "cell_type": "markdown",
   "metadata": {},
   "source": [
    "---"
   ]
  },
  {
   "cell_type": "code",
   "execution_count": 46,
   "metadata": {},
   "outputs": [],
   "source": [
    "df_features_reduced = df_features_reduced.values\n",
    "df_target = pd.get_dummies(df_target).values"
   ]
  },
  {
   "cell_type": "code",
   "execution_count": 47,
   "metadata": {},
   "outputs": [],
   "source": [
    "from sklearn.model_selection import train_test_split\n",
    "#X_train, X_test, y_train, y_test = train_test_split(df_keras, df_target, test_size=0.2, random_state=1)\n",
    "#X_train, X_test, y_train, y_test = train_test_split(df_features_reduced, df_target, test_size=0.2, random_state=1)\n",
    "X_train, X_test, y_train, y_test = train_test_split(df_features_reduced, df_target, test_size=0.2, random_state=1)\n",
    "X_train, X_val, y_train, y_val = train_test_split(X_train, y_train, test_size=0.2, random_state=1)"
   ]
  },
  {
   "cell_type": "code",
   "execution_count": 48,
   "metadata": {},
   "outputs": [
    {
     "name": "stdout",
     "output_type": "stream",
     "text": [
      "(564, 500)\n",
      "(141, 500)\n",
      "(177, 500)\n"
     ]
    }
   ],
   "source": [
    "X = [X_train, X_val, X_test]\n",
    "\n",
    "for data in X:\n",
    "    print(data.shape)"
   ]
  },
  {
   "cell_type": "markdown",
   "metadata": {},
   "source": [
    "##### Traditional NN"
   ]
  },
  {
   "cell_type": "markdown",
   "metadata": {},
   "source": [
    "##### Change the folllowing parameters and check the accuracy: \n",
    "    1. Vocalbulary_size \n",
    "    2. comment_length \n",
    "    3. batch_size:  \n",
    "    4. epochs: \n",
    "    5. optimizer: \n",
    "    6. Add another lstm layer:  \n",
    "    7. number of values in each comment \n",
    "    8. Add another hidden layer \n",
    "    9. Number of nodes in hidden layer \n",
    "    10. number of cells in lstm layer "
   ]
  },
  {
   "cell_type": "code",
   "execution_count": 130,
   "metadata": {},
   "outputs": [],
   "source": [
    "def bnn(size):\n",
    "    vocab_size = size\n",
    "\n",
    "    model = keras.Sequential()\n",
    "    model.add(keras.layers.Dense(vocab_size, input_dim = size))\n",
    "    #model.add(keras.layers.Embedding(vocab_size, 64))\n",
    "    #model.add(keras.layers.GlobalAveragePooling1D())\n",
    "    #model.add(keras.layers.Bidirectional(tf.keras.layers.LSTM(64)))\n",
    "    model.add(keras.layers.Dense(32, activation='relu'))\n",
    "    model.add(keras.layers.Dense(9, activation='softmax'))\n",
    "    '''\n",
    "    model.add(keras.layers.Embedding(vocab_size, 64))\n",
    "    model.add(keras.layers.GlobalAveragePooling1D())\n",
    "    mokeras.optimizers.Adagrad(lr=0.01, epsilon=None, decay=0.0)del.add(keras.layers.Dense(128, activation='relu'))\n",
    "    model.add(keras.layers.Dense(128, activation='relu'))\n",
    "    model.add(keras.layers.Dense(64, activation='relu'))\n",
    "    model.add(keras.layers.Dense(9, activation='sigmoid'))\n",
    "    '''\n",
    "    adagrad = keras.optimizers.Adagrad(lr=0.05, epsilon=None, decay=0.001)\n",
    "    \n",
    "    model.compile(optimizer=adagrad,\n",
    "              loss='binary_crossentropy',\n",
    "              metrics=['accuracy'])\n",
    "    \n",
    "    return model"
   ]
  },
  {
   "cell_type": "code",
   "execution_count": 131,
   "metadata": {},
   "outputs": [],
   "source": [
    "model_bnn = bnn(X_train.shape[1])"
   ]
  },
  {
   "cell_type": "code",
   "execution_count": 135,
   "metadata": {},
   "outputs": [
    {
     "name": "stdout",
     "output_type": "stream",
     "text": [
      "Train on 564 samples, validate on 141 samples\n",
      "Epoch 1/20\n",
      "564/564 [==============================] - 1s 1ms/step - loss: 0.1211 - acc: 0.9527 - val_loss: 0.2269 - val_acc: 0.9023\n",
      "Epoch 2/20\n",
      "564/564 [==============================] - 0s 125us/step - loss: 0.1198 - acc: 0.9521 - val_loss: 0.2061 - val_acc: 0.9157\n",
      "Epoch 3/20\n",
      "564/564 [==============================] - 0s 83us/step - loss: 0.1254 - acc: 0.9500 - val_loss: 0.2400 - val_acc: 0.9031\n",
      "Epoch 4/20\n",
      "564/564 [==============================] - 0s 71us/step - loss: 0.1188 - acc: 0.9521 - val_loss: 0.2158 - val_acc: 0.9141\n",
      "Epoch 5/20\n",
      "564/564 [==============================] - 0s 57us/step - loss: 0.1322 - acc: 0.9486 - val_loss: 0.2279 - val_acc: 0.9078\n",
      "Epoch 6/20\n",
      "564/564 [==============================] - 0s 58us/step - loss: 0.1117 - acc: 0.9515 - val_loss: 0.2021 - val_acc: 0.9173\n",
      "Epoch 7/20\n",
      "564/564 [==============================] - 0s 73us/step - loss: 0.1089 - acc: 0.9592 - val_loss: 0.2230 - val_acc: 0.9102\n",
      "Epoch 8/20\n",
      "564/564 [==============================] - 0s 51us/step - loss: 0.1052 - acc: 0.9559 - val_loss: 0.2041 - val_acc: 0.9180\n",
      "Epoch 9/20\n",
      "564/564 [==============================] - 0s 55us/step - loss: 0.1042 - acc: 0.9622 - val_loss: 0.2255 - val_acc: 0.9094\n",
      "Epoch 10/20\n",
      "564/564 [==============================] - 0s 63us/step - loss: 0.1022 - acc: 0.9571 - val_loss: 0.2110 - val_acc: 0.9141\n",
      "Epoch 11/20\n",
      "564/564 [==============================] - 0s 54us/step - loss: 0.1032 - acc: 0.9592 - val_loss: 0.2274 - val_acc: 0.9141\n",
      "Epoch 12/20\n",
      "564/564 [==============================] - 0s 52us/step - loss: 0.1005 - acc: 0.9578 - val_loss: 0.2232 - val_acc: 0.9141\n",
      "Epoch 13/20\n",
      "564/564 [==============================] - 0s 52us/step - loss: 0.1033 - acc: 0.9592 - val_loss: 0.2159 - val_acc: 0.9212\n",
      "Epoch 14/20\n",
      "564/564 [==============================] - 0s 57us/step - loss: 0.0914 - acc: 0.9622 - val_loss: 0.2246 - val_acc: 0.9125\n",
      "Epoch 15/20\n",
      "564/564 [==============================] - 0s 50us/step - loss: 0.0888 - acc: 0.9653 - val_loss: 0.2083 - val_acc: 0.9188\n",
      "Epoch 16/20\n",
      "564/564 [==============================] - 0s 52us/step - loss: 0.0822 - acc: 0.9665 - val_loss: 0.2268 - val_acc: 0.9141\n",
      "Epoch 17/20\n",
      "564/564 [==============================] - 0s 52us/step - loss: 0.0801 - acc: 0.9701 - val_loss: 0.2059 - val_acc: 0.9212\n",
      "Epoch 18/20\n",
      "564/564 [==============================] - 0s 55us/step - loss: 0.0773 - acc: 0.9703 - val_loss: 0.2323 - val_acc: 0.9165\n",
      "Epoch 19/20\n",
      "564/564 [==============================] - 0s 50us/step - loss: 0.0755 - acc: 0.9738 - val_loss: 0.2061 - val_acc: 0.9228\n",
      "Epoch 20/20\n",
      "564/564 [==============================] - 0s 57us/step - loss: 0.0745 - acc: 0.9730 - val_loss: 0.2360 - val_acc: 0.9149\n"
     ]
    }
   ],
   "source": [
    "history = model_bnn.fit(X_train,\n",
    "                        y_train,\n",
    "                        epochs=20,\n",
    "                        batch_size=564,\n",
    "                        validation_data=(X_val, y_val),\n",
    "                        verbose=1)"
   ]
  },
  {
   "cell_type": "code",
   "execution_count": 146,
   "metadata": {},
   "outputs": [
    {
     "name": "stdout",
     "output_type": "stream",
     "text": [
      "177/177 [==============================] - 0s 124us/step\n",
      "Test Loss: 0.195\n",
      "Test Accuracy: 0.925\n"
     ]
    }
   ],
   "source": [
    "test_eval = model_bnn.evaluate(x=X_test, y= y_test)\n",
    "print(\"Test Loss: {}\".format(round(test_eval[0],3)))\n",
    "print(\"Test Accuracy: {}\".format(round(test_eval[1],3)))"
   ]
  },
  {
   "cell_type": "markdown",
   "metadata": {},
   "source": [
    "##### RNN"
   ]
  },
  {
   "cell_type": "code",
   "execution_count": null,
   "metadata": {},
   "outputs": [],
   "source": []
  },
  {
   "cell_type": "code",
   "execution_count": null,
   "metadata": {},
   "outputs": [],
   "source": []
  },
  {
   "cell_type": "code",
   "execution_count": null,
   "metadata": {},
   "outputs": [],
   "source": []
  },
  {
   "cell_type": "markdown",
   "metadata": {},
   "source": [
    "##### CNN"
   ]
  },
  {
   "cell_type": "code",
   "execution_count": null,
   "metadata": {},
   "outputs": [],
   "source": []
  },
  {
   "cell_type": "code",
   "execution_count": null,
   "metadata": {},
   "outputs": [],
   "source": []
  },
  {
   "cell_type": "markdown",
   "metadata": {},
   "source": [
    "#### Adding Word Embeddings"
   ]
  },
  {
   "cell_type": "code",
   "execution_count": null,
   "metadata": {},
   "outputs": [],
   "source": []
  },
  {
   "cell_type": "code",
   "execution_count": null,
   "metadata": {},
   "outputs": [],
   "source": []
  }
 ],
 "metadata": {
  "kernelspec": {
   "display_name": "Python 3",
   "language": "python",
   "name": "python3"
  },
  "language_info": {
   "codemirror_mode": {
    "name": "ipython",
    "version": 3
   },
   "file_extension": ".py",
   "mimetype": "text/x-python",
   "name": "python",
   "nbconvert_exporter": "python",
   "pygments_lexer": "ipython3",
   "version": "3.6.5"
  }
 },
 "nbformat": 4,
 "nbformat_minor": 2
}
