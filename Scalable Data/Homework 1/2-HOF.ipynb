{
 "cells": [
  {
   "cell_type": "code",
   "execution_count": 44,
   "metadata": {},
   "outputs": [],
   "source": [
    "import pandas as pd\n",
    "from functools import reduce\n",
    "import math\n",
    "import numpy as np\n",
    "\n",
    "df = pd.read_csv(\"citibike.csv\")\n",
    "rows = df.values.tolist()"
   ]
  },
  {
   "cell_type": "markdown",
   "metadata": {},
   "source": [
    "---"
   ]
  },
  {
   "cell_type": "markdown",
   "metadata": {},
   "source": [
    "#### Part (a)"
   ]
  },
  {
   "cell_type": "code",
   "execution_count": 27,
   "metadata": {},
   "outputs": [
    {
     "data": {
      "text/plain": [
       "(37805, 7848)"
      ]
     },
     "execution_count": 27,
     "metadata": {},
     "output_type": "execute_result"
    }
   ],
   "source": [
    "gender = map(lambda x: x[16], rows)\n",
    "pairs = map(lambda x: (int(x==1), int(x==2)), gender)\n",
    "reduce(lambda x,y: (x[0]+y[0], x[1]+y[1]), pairs)"
   ]
  },
  {
   "cell_type": "markdown",
   "metadata": {},
   "source": [
    "---"
   ]
  },
  {
   "cell_type": "markdown",
   "metadata": {},
   "source": [
    "#### Part (b)"
   ]
  },
  {
   "cell_type": "code",
   "execution_count": 113,
   "metadata": {},
   "outputs": [],
   "source": [
    "rows_full = list(filter(lambda x: not math.isnan(x[15]), rows))\n",
    "birth = list(map(lambda x: x[15], rows_full))\n",
    "birth.sort()"
   ]
  },
  {
   "cell_type": "code",
   "execution_count": 119,
   "metadata": {},
   "outputs": [
    {
     "data": {
      "text/plain": [
       "{1900.0: 22,\n",
       " 1901.0: 1,\n",
       " 1910.0: 2,\n",
       " 1922.0: 4,\n",
       " 1926.0: 1,\n",
       " 1929.0: 1,\n",
       " 1934.0: 8,\n",
       " 1935.0: 9,\n",
       " 1938.0: 24,\n",
       " 1939.0: 4,\n",
       " 1940.0: 21,\n",
       " 1941.0: 39,\n",
       " 1942.0: 61,\n",
       " 1943.0: 18,\n",
       " 1944.0: 59,\n",
       " 1945.0: 28,\n",
       " 1946.0: 93,\n",
       " 1947.0: 74,\n",
       " 1948.0: 149,\n",
       " 1949.0: 134,\n",
       " 1950.0: 150,\n",
       " 1951.0: 229,\n",
       " 1952.0: 247,\n",
       " 1953.0: 346,\n",
       " 1954.0: 417,\n",
       " 1955.0: 413,\n",
       " 1956.0: 488,\n",
       " 1957.0: 449,\n",
       " 1958.0: 783,\n",
       " 1959.0: 687,\n",
       " 1960.0: 771,\n",
       " 1961.0: 618,\n",
       " 1962.0: 899,\n",
       " 1963.0: 970,\n",
       " 1964.0: 891,\n",
       " 1965.0: 947,\n",
       " 1966.0: 863,\n",
       " 1967.0: 999,\n",
       " 1968.0: 1010,\n",
       " 1969.0: 1133,\n",
       " 1970.0: 1347,\n",
       " 1971.0: 1162,\n",
       " 1972.0: 1081,\n",
       " 1973.0: 1022,\n",
       " 1974.0: 1158,\n",
       " 1975.0: 1071,\n",
       " 1976.0: 1168,\n",
       " 1977.0: 1122,\n",
       " 1978.0: 1377,\n",
       " 1979.0: 1279,\n",
       " 1980.0: 1509,\n",
       " 1981.0: 1499,\n",
       " 1982.0: 1455,\n",
       " 1983.0: 1793,\n",
       " 1984.0: 1714,\n",
       " 1985.0: 1673,\n",
       " 1986.0: 1568,\n",
       " 1987.0: 1730,\n",
       " 1988.0: 1358,\n",
       " 1989.0: 1322,\n",
       " 1990.0: 1361,\n",
       " 1991.0: 922,\n",
       " 1992.0: 493,\n",
       " 1993.0: 470,\n",
       " 1994.0: 392,\n",
       " 1995.0: 256,\n",
       " 1996.0: 124,\n",
       " 1997.0: 94,\n",
       " 1998.0: 59,\n",
       " 1999.0: 17}"
      ]
     },
     "execution_count": 119,
     "metadata": {},
     "output_type": "execute_result"
    }
   ],
   "source": [
    "def counter(x,y):\n",
    "    x[y] = x.get(y,0)+1\n",
    "    return x\n",
    "\n",
    "count = reduce(counter, birth, {})\n",
    "count"
   ]
  }
 ],
 "metadata": {
  "kernelspec": {
   "display_name": "Python 3",
   "language": "python",
   "name": "python3"
  },
  "language_info": {
   "codemirror_mode": {
    "name": "ipython",
    "version": 3
   },
   "file_extension": ".py",
   "mimetype": "text/x-python",
   "name": "python",
   "nbconvert_exporter": "python",
   "pygments_lexer": "ipython3",
   "version": "3.6.5"
  }
 },
 "nbformat": 4,
 "nbformat_minor": 2
}
