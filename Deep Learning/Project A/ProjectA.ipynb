{
 "cells": [
  {
   "cell_type": "code",
   "execution_count": 26,
   "metadata": {},
   "outputs": [],
   "source": [
    "import pandas as pd\n",
    "import numpy as np\n",
    "import datetime\n",
    "import nltk\n",
    "import string\n",
    "import re\n",
    "import os\n",
    "import matplotlib.pyplot as plt\n",
    "\n",
    "import warnings\n",
    "warnings.filterwarnings(\"ignore\")\n",
    "\n",
    "#nltk.download('punkt')\n",
    "#nltk.download('wordnet')\n",
    "#nltk.download('stopwords')\n",
    "\n",
    "#-- Text Preprocessing\n",
    "from sklearn.feature_extraction.text import TfidfVectorizer\n",
    "from collections import Counter\n",
    "from nltk.tokenize import word_tokenize\n",
    "from nltk.stem import PorterStemmer\n",
    "from nltk.corpus import stopwords\n",
    "from nltk.stem import WordNetLemmatizer\n",
    "\n",
    "#-- Modeling\n",
    "from sklearn.model_selection import StratifiedKFold\n",
    "from sklearn import model_selection\n",
    "from sklearn.linear_model import LogisticRegression\n",
    "from sklearn.tree import DecisionTreeClassifier\n",
    "from sklearn.neighbors import KNeighborsClassifier\n",
    "from sklearn.discriminant_analysis import LinearDiscriminantAnalysis\n",
    "from sklearn.naive_bayes import GaussianNB\n",
    "from sklearn.svm import SVC\n",
    "from sklearn.svm import LinearSVC\n",
    "from sklearn.svm import NuSVC\n",
    "from sklearn.ensemble import RandomForestClassifier"
   ]
  },
  {
   "cell_type": "markdown",
   "metadata": {},
   "source": [
    "### Importing and Preparing Data"
   ]
  },
  {
   "cell_type": "code",
   "execution_count": 7,
   "metadata": {},
   "outputs": [
    {
     "name": "stdout",
     "output_type": "stream",
     "text": [
      "Data has been loaded. Elapsed Time: 29.154992 seconds\n"
     ]
    }
   ],
   "source": [
    "start = datetime.datetime.now()\n",
    "\n",
    "labels = pd.read_fwf(\"label.txt\", header=None)\n",
    "patents = pd.read_fwf(\"train.txt\", header=None)\n",
    "\n",
    "finish = datetime.datetime.now()\n",
    "print(\"Data has been loaded. Elapsed Time: {} seconds\".format((finish-start).total_seconds()))"
   ]
  },
  {
   "cell_type": "code",
   "execution_count": 8,
   "metadata": {},
   "outputs": [],
   "source": [
    "'''\n",
    "Setting column names for joining\n",
    "'''\n",
    "patents = patents.iloc[:,[0,1]]\n",
    "patents.columns = ['ID', 'Document']\n",
    "labels.columns = ['ID', 'Label']"
   ]
  },
  {
   "cell_type": "code",
   "execution_count": 9,
   "metadata": {},
   "outputs": [
    {
     "data": {
      "text/html": [
       "<div>\n",
       "<style scoped>\n",
       "    .dataframe tbody tr th:only-of-type {\n",
       "        vertical-align: middle;\n",
       "    }\n",
       "\n",
       "    .dataframe tbody tr th {\n",
       "        vertical-align: top;\n",
       "    }\n",
       "\n",
       "    .dataframe thead th {\n",
       "        text-align: right;\n",
       "    }\n",
       "</style>\n",
       "<table border=\"1\" class=\"dataframe\">\n",
       "  <thead>\n",
       "    <tr style=\"text-align: right;\">\n",
       "      <th></th>\n",
       "      <th>ID</th>\n",
       "      <th>Document</th>\n",
       "      <th>Label</th>\n",
       "    </tr>\n",
       "  </thead>\n",
       "  <tbody>\n",
       "    <tr>\n",
       "      <th>0</th>\n",
       "      <td>20030006121</td>\n",
       "      <td>Passive radio frequency identification system ...</td>\n",
       "      <td>8</td>\n",
       "    </tr>\n",
       "    <tr>\n",
       "      <th>1</th>\n",
       "      <td>20030009666</td>\n",
       "      <td>Methods and apparatus for efficient computatio...</td>\n",
       "      <td>0</td>\n",
       "    </tr>\n",
       "    <tr>\n",
       "      <th>2</th>\n",
       "      <td>20030014337</td>\n",
       "      <td>Systems, methods and computer program products...</td>\n",
       "      <td>8</td>\n",
       "    </tr>\n",
       "    <tr>\n",
       "      <th>3</th>\n",
       "      <td>20030019942</td>\n",
       "      <td>System and method for electronically readable ...</td>\n",
       "      <td>8</td>\n",
       "    </tr>\n",
       "    <tr>\n",
       "      <th>4</th>\n",
       "      <td>20030033242</td>\n",
       "      <td>System and method for automated process of dea...</td>\n",
       "      <td>6</td>\n",
       "    </tr>\n",
       "  </tbody>\n",
       "</table>\n",
       "</div>"
      ],
      "text/plain": [
       "            ID                                           Document  Label\n",
       "0  20030006121  Passive radio frequency identification system ...      8\n",
       "1  20030009666  Methods and apparatus for efficient computatio...      0\n",
       "2  20030014337  Systems, methods and computer program products...      8\n",
       "3  20030019942  System and method for electronically readable ...      8\n",
       "4  20030033242  System and method for automated process of dea...      6"
      ]
     },
     "execution_count": 9,
     "metadata": {},
     "output_type": "execute_result"
    }
   ],
   "source": [
    "pats = patents.join(labels.set_index('ID'), on = 'ID')\n",
    "pats.head()"
   ]
  },
  {
   "cell_type": "markdown",
   "metadata": {},
   "source": [
    "### Preprocessing"
   ]
  },
  {
   "cell_type": "code",
   "execution_count": 10,
   "metadata": {},
   "outputs": [
    {
     "name": "stdout",
     "output_type": "stream",
     "text": [
      "Punctuation removed from patent! Elapsed Time: 14.348659 seconds\n"
     ]
    }
   ],
   "source": [
    "#Removing Punctuation\n",
    "\n",
    "def no_punctuation(document):\n",
    "    no_punc = ''.join([character for character in document if character not in string.punctuation])\n",
    "    return no_punc\n",
    "\n",
    "start = datetime.datetime.now()\n",
    "pats.Document = list(map(no_punctuation, pats.Document))\n",
    "finish = datetime.datetime.now()\n",
    "\n",
    "print(\"Punctuation removed from patent! Elapsed Time: {} seconds\".format((finish-start).total_seconds()))"
   ]
  },
  {
   "cell_type": "code",
   "execution_count": 11,
   "metadata": {},
   "outputs": [
    {
     "name": "stdout",
     "output_type": "stream",
     "text": [
      "Patents tokenized! Elapsed Time: 92.307841 seconds\n"
     ]
    }
   ],
   "source": [
    "# Tokenization\n",
    "def tokenize(document):\n",
    "    tokened = nltk.word_tokenize(document)\n",
    "    return tokened\n",
    "\n",
    "start = datetime.datetime.now()\n",
    "pats.Document = list(map(tokenize, pats.Document))\n",
    "finish = datetime.datetime.now()\n",
    "\n",
    "print(\"Patents tokenized! Elapsed Time: {} seconds\".format((finish-start).total_seconds()))\n"
   ]
  },
  {
   "cell_type": "code",
   "execution_count": 12,
   "metadata": {},
   "outputs": [
    {
     "name": "stdout",
     "output_type": "stream",
     "text": [
      "Stop words removed from patents! Elapsed Time: 17.724577 seconds\n"
     ]
    }
   ],
   "source": [
    "# Stop Word and Numeric Removal \n",
    "def no_stops(document):\n",
    "    stop_words = set(stopwords.words('english'))\n",
    "    no_stop = [word.lower() for word in document if word not in stop_words]\n",
    "    no_numeric = [word for word in no_stop if not any(num.isdigit() for num in word)]\n",
    "    return no_numeric\n",
    "\n",
    "start = datetime.datetime.now()\n",
    "pats.Document = list(map(no_stops, pats.Document))\n",
    "finish = datetime.datetime.now()\n",
    "\n",
    "print(\"Stop words removed from patents! Elapsed Time: {} seconds\".format((finish-start).total_seconds()))"
   ]
  },
  {
   "cell_type": "code",
   "execution_count": 13,
   "metadata": {},
   "outputs": [
    {
     "name": "stdout",
     "output_type": "stream",
     "text": [
      "Root words generated for patents! Elapsed Time: 271.92084 seconds\n"
     ]
    }
   ],
   "source": [
    "# Stemming [state = 0], Lemmatizing [state = 1]\n",
    "\n",
    "def generate_root(document, state):\n",
    "    if state == 0:\n",
    "        stemmer = PorterStemmer()\n",
    "        stemmed = [stemmer.stem(word.lower()) for word in document] \n",
    "        return stemmed\n",
    "    elif state == 1:\n",
    "        '''\n",
    "        Lemmatization has a drawback of needing to specify part of speech. Example:\n",
    "            For noun, 'building' == 'building',\n",
    "            For verb, 'building' == 'build'\n",
    "        '''\n",
    "        lemmatizer = WordNetLemmatizer()\n",
    "        lemmatized = [lemmatizer.lemmatize(word.lower(), pos = ['n']) for word in document]\n",
    "        return lemmatized\n",
    "    else:\n",
    "        return document\n",
    "\n",
    "    \n",
    "start = datetime.datetime.now()\n",
    "pats.Document = list(map(lambda x: generate_root(x,0), pats.Document)) #State is specified here\n",
    "finish = datetime.datetime.now()\n",
    "\n",
    "print(\"Root words generated for patents! Elapsed Time: {} seconds\".format((finish-start).total_seconds()))"
   ]
  },
  {
   "cell_type": "code",
   "execution_count": 14,
   "metadata": {},
   "outputs": [
    {
     "name": "stdout",
     "output_type": "stream",
     "text": [
      "Patents have been rejoined after preprocessing! Elapsed Time: 0.80396 seconds\n"
     ]
    }
   ],
   "source": [
    "# Rejoining Text After Cleaning\n",
    "\n",
    "def cleaned_document(document):\n",
    "    doc = ' '.join(document)\n",
    "    return doc\n",
    "\n",
    "start = datetime.datetime.now()\n",
    "pats.Document = pats.Document.apply(cleaned_document)\n",
    "finish = datetime.datetime.now()\n",
    "\n",
    "print(\"Patents have been rejoined after preprocessing! Elapsed Time: {} seconds\".format((finish-start).total_seconds()))"
   ]
  },
  {
   "cell_type": "markdown",
   "metadata": {},
   "source": [
    "### Vectorization of Documents"
   ]
  },
  {
   "cell_type": "code",
   "execution_count": 15,
   "metadata": {},
   "outputs": [
    {
     "data": {
      "text/plain": [
       "0    passiv radio frequenc identif system identifi ...\n",
       "1    method apparatu effici comput oneway chain cry...\n",
       "2    system method comput program product perform g...\n",
       "3    system method electron readabl card power sour...\n",
       "4    system method autom process deal structur an a...\n",
       "5    vehicl shop buy system method a complet intern...\n",
       "6    game cash manag slip method the invent cash ma...\n",
       "Name: Document, dtype: object"
      ]
     },
     "execution_count": 15,
     "metadata": {},
     "output_type": "execute_result"
    }
   ],
   "source": [
    "pats.Document[0:7]"
   ]
  },
  {
   "cell_type": "code",
   "execution_count": 16,
   "metadata": {},
   "outputs": [
    {
     "data": {
      "text/html": [
       "<div>\n",
       "<style scoped>\n",
       "    .dataframe tbody tr th:only-of-type {\n",
       "        vertical-align: middle;\n",
       "    }\n",
       "\n",
       "    .dataframe tbody tr th {\n",
       "        vertical-align: top;\n",
       "    }\n",
       "\n",
       "    .dataframe thead th {\n",
       "        text-align: right;\n",
       "    }\n",
       "</style>\n",
       "<table border=\"1\" class=\"dataframe\">\n",
       "  <thead>\n",
       "    <tr style=\"text-align: right;\">\n",
       "      <th></th>\n",
       "      <th>abil</th>\n",
       "      <th>abl</th>\n",
       "      <th>abl access</th>\n",
       "      <th>abl use</th>\n",
       "      <th>abovedescrib</th>\n",
       "      <th>absenc</th>\n",
       "      <th>abstract</th>\n",
       "      <th>acceler</th>\n",
       "      <th>accept</th>\n",
       "      <th>accept payment</th>\n",
       "      <th>...</th>\n",
       "      <th>xml</th>\n",
       "      <th>ye</th>\n",
       "      <th>year</th>\n",
       "      <th>yet</th>\n",
       "      <th>yet anoth</th>\n",
       "      <th>yield</th>\n",
       "      <th>zero</th>\n",
       "      <th>zip</th>\n",
       "      <th>zip code</th>\n",
       "      <th>âˆ</th>\n",
       "    </tr>\n",
       "  </thead>\n",
       "  <tbody>\n",
       "    <tr>\n",
       "      <th>0</th>\n",
       "      <td>0.015772</td>\n",
       "      <td>0.000000</td>\n",
       "      <td>0.0</td>\n",
       "      <td>0.0</td>\n",
       "      <td>0.000000</td>\n",
       "      <td>0.000000</td>\n",
       "      <td>0.000000</td>\n",
       "      <td>0.0</td>\n",
       "      <td>0.000000</td>\n",
       "      <td>0.0</td>\n",
       "      <td>...</td>\n",
       "      <td>0.0</td>\n",
       "      <td>0.000000</td>\n",
       "      <td>0.000000</td>\n",
       "      <td>0.000000</td>\n",
       "      <td>0.0</td>\n",
       "      <td>0.0</td>\n",
       "      <td>0.000000</td>\n",
       "      <td>0.0</td>\n",
       "      <td>0.0</td>\n",
       "      <td>0.0</td>\n",
       "    </tr>\n",
       "    <tr>\n",
       "      <th>1</th>\n",
       "      <td>0.000000</td>\n",
       "      <td>0.001681</td>\n",
       "      <td>0.0</td>\n",
       "      <td>0.0</td>\n",
       "      <td>0.019868</td>\n",
       "      <td>0.000000</td>\n",
       "      <td>0.000000</td>\n",
       "      <td>0.0</td>\n",
       "      <td>0.003259</td>\n",
       "      <td>0.0</td>\n",
       "      <td>...</td>\n",
       "      <td>0.0</td>\n",
       "      <td>0.000000</td>\n",
       "      <td>0.004388</td>\n",
       "      <td>0.000000</td>\n",
       "      <td>0.0</td>\n",
       "      <td>0.0</td>\n",
       "      <td>0.000000</td>\n",
       "      <td>0.0</td>\n",
       "      <td>0.0</td>\n",
       "      <td>0.0</td>\n",
       "    </tr>\n",
       "    <tr>\n",
       "      <th>2</th>\n",
       "      <td>0.002063</td>\n",
       "      <td>0.001789</td>\n",
       "      <td>0.0</td>\n",
       "      <td>0.0</td>\n",
       "      <td>0.003524</td>\n",
       "      <td>0.000000</td>\n",
       "      <td>0.000000</td>\n",
       "      <td>0.0</td>\n",
       "      <td>0.001734</td>\n",
       "      <td>0.0</td>\n",
       "      <td>...</td>\n",
       "      <td>0.0</td>\n",
       "      <td>0.000000</td>\n",
       "      <td>0.004670</td>\n",
       "      <td>0.000000</td>\n",
       "      <td>0.0</td>\n",
       "      <td>0.0</td>\n",
       "      <td>0.043756</td>\n",
       "      <td>0.0</td>\n",
       "      <td>0.0</td>\n",
       "      <td>0.0</td>\n",
       "    </tr>\n",
       "    <tr>\n",
       "      <th>3</th>\n",
       "      <td>0.000000</td>\n",
       "      <td>0.000000</td>\n",
       "      <td>0.0</td>\n",
       "      <td>0.0</td>\n",
       "      <td>0.000000</td>\n",
       "      <td>0.000000</td>\n",
       "      <td>0.000000</td>\n",
       "      <td>0.0</td>\n",
       "      <td>0.000000</td>\n",
       "      <td>0.0</td>\n",
       "      <td>...</td>\n",
       "      <td>0.0</td>\n",
       "      <td>0.019893</td>\n",
       "      <td>0.000000</td>\n",
       "      <td>0.000000</td>\n",
       "      <td>0.0</td>\n",
       "      <td>0.0</td>\n",
       "      <td>0.000000</td>\n",
       "      <td>0.0</td>\n",
       "      <td>0.0</td>\n",
       "      <td>0.0</td>\n",
       "    </tr>\n",
       "    <tr>\n",
       "      <th>4</th>\n",
       "      <td>0.003374</td>\n",
       "      <td>0.001462</td>\n",
       "      <td>0.0</td>\n",
       "      <td>0.0</td>\n",
       "      <td>0.000000</td>\n",
       "      <td>0.001566</td>\n",
       "      <td>0.002956</td>\n",
       "      <td>0.0</td>\n",
       "      <td>0.007798</td>\n",
       "      <td>0.0</td>\n",
       "      <td>...</td>\n",
       "      <td>0.0</td>\n",
       "      <td>0.000000</td>\n",
       "      <td>0.022909</td>\n",
       "      <td>0.000796</td>\n",
       "      <td>0.0</td>\n",
       "      <td>0.0</td>\n",
       "      <td>0.000000</td>\n",
       "      <td>0.0</td>\n",
       "      <td>0.0</td>\n",
       "      <td>0.0</td>\n",
       "    </tr>\n",
       "  </tbody>\n",
       "</table>\n",
       "<p>5 rows × 4635 columns</p>\n",
       "</div>"
      ],
      "text/plain": [
       "       abil       abl  abl access  abl use  abovedescrib    absenc  abstract  \\\n",
       "0  0.015772  0.000000         0.0      0.0      0.000000  0.000000  0.000000   \n",
       "1  0.000000  0.001681         0.0      0.0      0.019868  0.000000  0.000000   \n",
       "2  0.002063  0.001789         0.0      0.0      0.003524  0.000000  0.000000   \n",
       "3  0.000000  0.000000         0.0      0.0      0.000000  0.000000  0.000000   \n",
       "4  0.003374  0.001462         0.0      0.0      0.000000  0.001566  0.002956   \n",
       "\n",
       "   acceler    accept  accept payment ...   xml        ye      year       yet  \\\n",
       "0      0.0  0.000000             0.0 ...   0.0  0.000000  0.000000  0.000000   \n",
       "1      0.0  0.003259             0.0 ...   0.0  0.000000  0.004388  0.000000   \n",
       "2      0.0  0.001734             0.0 ...   0.0  0.000000  0.004670  0.000000   \n",
       "3      0.0  0.000000             0.0 ...   0.0  0.019893  0.000000  0.000000   \n",
       "4      0.0  0.007798             0.0 ...   0.0  0.000000  0.022909  0.000796   \n",
       "\n",
       "   yet anoth  yield      zero  zip  zip code   âˆ  \n",
       "0        0.0    0.0  0.000000  0.0       0.0  0.0  \n",
       "1        0.0    0.0  0.000000  0.0       0.0  0.0  \n",
       "2        0.0    0.0  0.043756  0.0       0.0  0.0  \n",
       "3        0.0    0.0  0.000000  0.0       0.0  0.0  \n",
       "4        0.0    0.0  0.000000  0.0       0.0  0.0  \n",
       "\n",
       "[5 rows x 4635 columns]"
      ]
     },
     "execution_count": 16,
     "metadata": {},
     "output_type": "execute_result"
    }
   ],
   "source": [
    "tfidf = TfidfVectorizer(ngram_range = (1,2), analyzer ='word',min_df = .1, max_df=.95)\n",
    "\n",
    "vectors = tfidf.fit_transform(pats.Document)\n",
    "vectorDF = pd.DataFrame(data=vectors.toarray())\n",
    "vectorDF.columns = tfidf.get_feature_names()\n",
    "\n",
    "vectorDF.head()"
   ]
  },
  {
   "cell_type": "markdown",
   "metadata": {},
   "source": [
    "### Modeling"
   ]
  },
  {
   "cell_type": "code",
   "execution_count": 17,
   "metadata": {},
   "outputs": [],
   "source": [
    "df = vectorDF.join(labels.Label)\n",
    "df_features = df.drop('Label', axis = 1)\n",
    "df_target = df['Label']"
   ]
  },
  {
   "cell_type": "code",
   "execution_count": 41,
   "metadata": {},
   "outputs": [],
   "source": [
    "# Prepare models\n",
    "models = []\n",
    "models.append(('LR', LogisticRegression()))\n",
    "models.append(('LDA', LinearDiscriminantAnalysis()))\n",
    "models.append(('KNN', KNeighborsClassifier()))\n",
    "models.append(('DT', DecisionTreeClassifier()))\n",
    "models.append(('NB', GaussianNB()))\n",
    "models.append(('LiSVM', LinearSVC()))\n",
    "models.append(('NuSVM', NuSVC(nu= 0.19)))\n",
    "models.append(('RF', RandomForestClassifier()))"
   ]
  },
  {
   "cell_type": "code",
   "execution_count": 42,
   "metadata": {},
   "outputs": [
    {
     "name": "stdout",
     "output_type": "stream",
     "text": [
      "LR: 0.637903 (0.083072)\n",
      "LDA: 0.139238 (0.060730)\n",
      "KNN: 0.578185 (0.056545)\n",
      "DT: 0.483543 (0.068328)\n",
      "NB: 0.560757 (0.071605)\n",
      "LiSVM: 0.668566 (0.076503)\n",
      "NuSVM: 0.545615 (0.093381)\n",
      "RF: 0.543585 (0.058385)\n"
     ]
    }
   ],
   "source": [
    "# Evaluate each model in turn\n",
    "results = []\n",
    "names = []\n",
    "scoring = 'accuracy'\n",
    "for name, model in models:\n",
    "    kfold = model_selection.StratifiedKFold(n_splits=10, random_state=1)\n",
    "    cv_results = model_selection.cross_val_score(model, df_features, df_target, cv=kfold, scoring=scoring)\n",
    "    results.append(cv_results)\n",
    "    names.append(name) \n",
    "    msg = \"%s: %f (%f)\" % (name, cv_results.mean(), cv_results.std())\n",
    "    print(msg)"
   ]
  },
  {
   "cell_type": "code",
   "execution_count": 44,
   "metadata": {},
   "outputs": [
    {
     "data": {
      "image/png": "[encoded data removed]",
      "text/plain": [
       "<Figure size 432x288 with 1 Axes>"
      ]
     },
     "metadata": {},
     "output_type": "display_data"
    }
   ],
   "source": [
    "# Boxplot algorithm comparison\n",
    "fig = plt.figure()\n",
    "fig.suptitle('Algorithm Comparison')\n",
    "ax = fig.add_subplot(111)\n",
    "plt.boxplot(results)\n",
    "ax.set_xticklabels(names)\n",
    "plt.show()\n",
    "fig.savefig('ModelPerformance.png')"
   ]
  },
  {
   "cell_type": "markdown",
   "metadata": {},
   "source": [
    "---\n",
    "### TESTS"
   ]
  },
  {
   "cell_type": "code",
   "execution_count": 103,
   "metadata": {},
   "outputs": [
    {
     "data": {
      "text/plain": [
       "'hey what!? why? helping, a countries, countri'"
      ]
     },
     "execution_count": 103,
     "metadata": {},
     "output_type": "execute_result"
    }
   ],
   "source": [
    "yun = \"Hey what!? Why? Helping, a countries, country\"\n",
    "stemmer.stem(yun)"
   ]
  },
  {
   "cell_type": "code",
   "execution_count": 143,
   "metadata": {},
   "outputs": [
    {
     "data": {
      "text/plain": [
       "['countri', 'help', 'hey', 'hmmm', 'whi']"
      ]
     },
     "execution_count": 143,
     "metadata": {},
     "output_type": "execute_result"
    }
   ],
   "source": [
    "tf = TfidfVectorizer(analyzer ='word',min_df = .01, max_df=.95)\n",
    "\n",
    "\n",
    "test = [\"Hey what!? Why? Helping, a countries, country\", \"Hmmm????!\"]\n",
    "test = list(map(no_punctuation, test))\n",
    "test = list(map(tokenize, test))\n",
    "test = list(map(no_stops, test))\n",
    "test = list(map(lambda x: generate_root(x,0),test))\n",
    "test = map(cleaned_document, test)\n",
    "#test = Counter(test[0]).most_common()\n",
    "\n",
    "test\n",
    "vec = tf.fit_transform(test)\n",
    "pd.DataFrame(vec.toarray())\n",
    "#test = ''.join([character for character in test if character not in string.punctuation])\n",
    "tf.get_feature_names()"
   ]
  },
  {
   "cell_type": "code",
   "execution_count": 111,
   "metadata": {},
   "outputs": [
    {
     "data": {
      "text/plain": [
       "['hey', 'whi', 'help', 'countri', 'countri']"
      ]
     },
     "execution_count": 111,
     "metadata": {},
     "output_type": "execute_result"
    }
   ],
   "source": [
    "test[0]"
   ]
  },
  {
   "cell_type": "code",
   "execution_count": 110,
   "metadata": {},
   "outputs": [
    {
     "data": {
      "text/plain": [
       "'hey whi help countri countri'"
      ]
     },
     "execution_count": 110,
     "metadata": {},
     "output_type": "execute_result"
    }
   ],
   "source": [
    "doc = ' '.join(test[0])\n",
    "doc"
   ]
  },
  {
   "cell_type": "code",
   "execution_count": 172,
   "metadata": {},
   "outputs": [
    {
     "data": {
      "text/html": [
       "<div>\n",
       "<style scoped>\n",
       "    .dataframe tbody tr th:only-of-type {\n",
       "        vertical-align: middle;\n",
       "    }\n",
       "\n",
       "    .dataframe tbody tr th {\n",
       "        vertical-align: top;\n",
       "    }\n",
       "\n",
       "    .dataframe thead th {\n",
       "        text-align: right;\n",
       "    }\n",
       "</style>\n",
       "<table border=\"1\" class=\"dataframe\">\n",
       "  <thead>\n",
       "    <tr style=\"text-align: right;\">\n",
       "      <th></th>\n",
       "      <th>ID</th>\n",
       "      <th>Document</th>\n",
       "      <th>Label</th>\n",
       "    </tr>\n",
       "  </thead>\n",
       "  <tbody>\n",
       "    <tr>\n",
       "      <th>0</th>\n",
       "      <td>20030006121</td>\n",
       "      <td>passiv radio frequenc identif system identifi ...</td>\n",
       "      <td>8</td>\n",
       "    </tr>\n",
       "    <tr>\n",
       "      <th>1</th>\n",
       "      <td>20030009666</td>\n",
       "      <td>method apparatu effici comput oneway chain cry...</td>\n",
       "      <td>0</td>\n",
       "    </tr>\n",
       "    <tr>\n",
       "      <th>2</th>\n",
       "      <td>20030014337</td>\n",
       "      <td>system method comput program product perform g...</td>\n",
       "      <td>8</td>\n",
       "    </tr>\n",
       "    <tr>\n",
       "      <th>3</th>\n",
       "      <td>20030019942</td>\n",
       "      <td>system method electron readabl card power sour...</td>\n",
       "      <td>8</td>\n",
       "    </tr>\n",
       "    <tr>\n",
       "      <th>4</th>\n",
       "      <td>20030033242</td>\n",
       "      <td>system method autom process deal structur an a...</td>\n",
       "      <td>6</td>\n",
       "    </tr>\n",
       "  </tbody>\n",
       "</table>\n",
       "</div>"
      ],
      "text/plain": [
       "            ID                                           Document  Label\n",
       "0  20030006121  passiv radio frequenc identif system identifi ...      8\n",
       "1  20030009666  method apparatu effici comput oneway chain cry...      0\n",
       "2  20030014337  system method comput program product perform g...      8\n",
       "3  20030019942  system method electron readabl card power sour...      8\n",
       "4  20030033242  system method autom process deal structur an a...      6"
      ]
     },
     "execution_count": 172,
     "metadata": {},
     "output_type": "execute_result"
    }
   ],
   "source": [
    "pats.head()"
   ]
  },
  {
   "cell_type": "code",
   "execution_count": 100,
   "metadata": {},
   "outputs": [
    {
     "name": "stdout",
     "output_type": "stream",
     "text": [
      "passive r\n",
      "passive\n",
      "methods a\n",
      "methods\n"
     ]
    },
    {
     "data": {
      "text/plain": [
       "0    passive radio frequency identification system ...\n",
       "1    methods apparatus efficient computation oneway...\n",
       "Name: Document, dtype: object"
      ]
     },
     "execution_count": 100,
     "metadata": {},
     "output_type": "execute_result"
    }
   ],
   "source": [
    "wpt = nltk.WordPunctTokenizer()\n",
    "stop_words = nltk.corpus.stopwords.words('english')\n",
    "\n",
    "def normalize_document(doc):\n",
    "    \n",
    "\t# lower case and remove special characters\\whitespaces\n",
    "    doc = re.sub(r'[^a-zA-Z\\s]', '', doc, re.I|re.A)\n",
    "    doc = doc.lower()\n",
    "    doc = doc.strip()\n",
    "    doc = stemmer.stem(doc)\n",
    "    print(doc[0:9])\n",
    "\t# tokenize document\n",
    "    tokens = wpt.tokenize(doc)\n",
    "    \n",
    "\t# filter stopwords out of document\n",
    "    filtered_tokens = [token for token in tokens if token not in stop_words]\n",
    "    print(filtered_tokens[0])\n",
    "\t# re-create document from filtered tokens\n",
    "    doc = ' '.join(filtered_tokens)\n",
    "    return doc\n",
    "\n",
    "patents.Document[:2].apply(normalize_document)"
   ]
  },
  {
   "cell_type": "code",
   "execution_count": 104,
   "metadata": {},
   "outputs": [
    {
     "data": {
      "text/plain": [
       "'passiv'"
      ]
     },
     "execution_count": 104,
     "metadata": {},
     "output_type": "execute_result"
    }
   ],
   "source": [
    "stemmer.stem('passive')"
   ]
  },
  {
   "cell_type": "code",
   "execution_count": null,
   "metadata": {},
   "outputs": [],
   "source": []
  },
  {
   "cell_type": "code",
   "execution_count": 217,
   "metadata": {},
   "outputs": [
    {
     "name": "stdout",
     "output_type": "stream",
     "text": [
      "9\n"
     ]
    }
   ],
   "source": [
    "def returned():\n",
    "    nums = [2,3,5,6,8,89,3,2]\n",
    "    for num in nums:\n",
    "        s = num**2\n",
    "        yield s\n",
    "    \n",
    "def iterate(y):\n",
    "    print(y)\n",
    "\n",
    "    \n",
    "iterate(9)\n",
    "        "
   ]
  },
  {
   "cell_type": "code",
   "execution_count": null,
   "metadata": {},
   "outputs": [],
   "source": []
  }
 ],
 "metadata": {
  "kernelspec": {
   "display_name": "Python 3",
   "language": "python",
   "name": "python3"
  },
  "language_info": {
   "codemirror_mode": {
    "name": "ipython",
    "version": 3
   },
   "file_extension": ".py",
   "mimetype": "text/x-python",
   "name": "python",
   "nbconvert_exporter": "python",
   "pygments_lexer": "ipython3",
   "version": "3.6.5"
  }
 },
 "nbformat": 4,
 "nbformat_minor": 2
}
