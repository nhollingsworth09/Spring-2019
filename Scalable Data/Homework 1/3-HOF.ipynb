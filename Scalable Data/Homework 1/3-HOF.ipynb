{
 "cells": [
  {
   "cell_type": "code",
   "execution_count": 135,
   "metadata": {},
   "outputs": [],
   "source": [
    "import pandas as pd\n",
    "from functools import reduce\n",
    "import csv\n",
    "import dateutil\n",
    "import datetime"
   ]
  },
  {
   "cell_type": "code",
   "execution_count": 134,
   "metadata": {},
   "outputs": [
    {
     "name": "stdout",
     "output_type": "stream",
     "text": [
      "['1978', '1992', '1982', '1969', '1971', '1989', '1963']\n"
     ]
    }
   ],
   "source": [
    "currentday = int\n",
    "    \n",
    "def firstride(reader):\n",
    "    global currentday\n",
    "    \n",
    "    for row in reader:\n",
    "        if currentday != dateutil.parser.parse(row['starttime']).weekday():\n",
    "            currentday = dateutil.parser.parse(row['starttime']).weekday()\n",
    "            yield row\n",
    "    \n",
    "with open('citibike.csv','r') as file:\n",
    "    reader = csv.DictReader(file)\n",
    "    first_birth_years = map(lambda x: x['birth_year'], firstride(reader))\n",
    "    \n",
    "    print(list(first_birth_years))"
   ]
  },
  {
   "cell_type": "code",
   "execution_count": null,
   "metadata": {},
   "outputs": [],
   "source": []
  }
 ],
 "metadata": {
  "kernelspec": {
   "display_name": "Python 3",
   "language": "python",
   "name": "python3"
  },
  "language_info": {
   "codemirror_mode": {
    "name": "ipython",
    "version": 3
   },
   "file_extension": ".py",
   "mimetype": "text/x-python",
   "name": "python",
   "nbconvert_exporter": "python",
   "pygments_lexer": "ipython3",
   "version": "3.6.5"
  }
 },
 "nbformat": 4,
 "nbformat_minor": 2
}
